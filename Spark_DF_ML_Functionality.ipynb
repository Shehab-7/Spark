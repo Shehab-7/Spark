{
  "nbformat": 4,
  "nbformat_minor": 0,
  "metadata": {
    "colab": {
      "name": "Spark_DF_ML_Functionality.ipynb",
      "provenance": [],
      "collapsed_sections": [],
      "include_colab_link": true
    },
    "kernelspec": {
      "name": "python3",
      "display_name": "Python 3"
    },
    "language_info": {
      "name": "python"
    }
  },
  "cells": [
    {
      "cell_type": "markdown",
      "metadata": {
        "id": "view-in-github",
        "colab_type": "text"
      },
      "source": [
        "<a href=\"https://colab.research.google.com/github/Shehab-7/Spark/blob/main/Spark_DF_ML_Functionality.ipynb\" target=\"_parent\"><img src=\"https://colab.research.google.com/assets/colab-badge.svg\" alt=\"Open In Colab\"/></a>"
      ]
    },
    {
      "cell_type": "markdown",
      "metadata": {
        "id": "vIwZsU0haNkj"
      },
      "source": [
        "## Task 1 - SQL"
      ]
    },
    {
      "cell_type": "markdown",
      "metadata": {
        "id": "45wCuSvgajao"
      },
      "source": [
        "### Build SparkSession:"
      ]
    },
    {
      "cell_type": "code",
      "source": [
        "!pwd\n",
        "! wget https://archive.apache.org/dist/spark/spark-3.0.1/spark-3.0.1-bin-hadoop3.2.tgz\n",
        "!tar -xvzf spark-3.0.1-bin-hadoop3.2.tgz\n",
        "!pip install findspark"
      ],
      "metadata": {
        "colab": {
          "base_uri": "https://localhost:8080/"
        },
        "id": "qDG1rBr8GU06",
        "outputId": "13767a05-43b3-4c9b-d119-0b7fbbf54d12"
      },
      "execution_count": 1,
      "outputs": [
        {
          "output_type": "stream",
          "name": "stdout",
          "text": [
            "/content\n",
            "--2022-07-18 18:03:26--  https://archive.apache.org/dist/spark/spark-3.0.1/spark-3.0.1-bin-hadoop3.2.tgz\n",
            "Resolving archive.apache.org (archive.apache.org)... 138.201.131.134, 2a01:4f8:172:2ec5::2\n",
            "Connecting to archive.apache.org (archive.apache.org)|138.201.131.134|:443... connected.\n",
            "HTTP request sent, awaiting response... 200 OK\n",
            "Length: 224062525 (214M) [application/x-gzip]\n",
            "Saving to: ‘spark-3.0.1-bin-hadoop3.2.tgz.1’\n",
            "\n",
            "spark-3.0.1-bin-had 100%[===================>] 213.68M  18.7MB/s    in 13s     \n",
            "\n",
            "2022-07-18 18:03:39 (16.7 MB/s) - ‘spark-3.0.1-bin-hadoop3.2.tgz.1’ saved [224062525/224062525]\n",
            "\n",
            "spark-3.0.1-bin-hadoop3.2/\n",
            "spark-3.0.1-bin-hadoop3.2/RELEASE\n",
            "spark-3.0.1-bin-hadoop3.2/examples/\n",
            "spark-3.0.1-bin-hadoop3.2/examples/src/\n",
            "spark-3.0.1-bin-hadoop3.2/examples/src/main/\n",
            "spark-3.0.1-bin-hadoop3.2/examples/src/main/scala/\n",
            "spark-3.0.1-bin-hadoop3.2/examples/src/main/scala/org/\n",
            "spark-3.0.1-bin-hadoop3.2/examples/src/main/scala/org/apache/\n",
            "spark-3.0.1-bin-hadoop3.2/examples/src/main/scala/org/apache/spark/\n",
            "spark-3.0.1-bin-hadoop3.2/examples/src/main/scala/org/apache/spark/examples/\n",
            "spark-3.0.1-bin-hadoop3.2/examples/src/main/scala/org/apache/spark/examples/ml/\n",
            "spark-3.0.1-bin-hadoop3.2/examples/src/main/scala/org/apache/spark/examples/ml/FPGrowthExample.scala\n",
            "spark-3.0.1-bin-hadoop3.2/examples/src/main/scala/org/apache/spark/examples/ml/GBTExample.scala\n",
            "spark-3.0.1-bin-hadoop3.2/examples/src/main/scala/org/apache/spark/examples/ml/ALSExample.scala\n",
            "spark-3.0.1-bin-hadoop3.2/examples/src/main/scala/org/apache/spark/examples/ml/KMeansExample.scala\n",
            "spark-3.0.1-bin-hadoop3.2/examples/src/main/scala/org/apache/spark/examples/ml/DecisionTreeExample.scala\n",
            "spark-3.0.1-bin-hadoop3.2/examples/src/main/scala/org/apache/spark/examples/ml/LogisticRegressionSummaryExample.scala\n",
            "spark-3.0.1-bin-hadoop3.2/examples/src/main/scala/org/apache/spark/examples/ml/TokenizerExample.scala\n",
            "spark-3.0.1-bin-hadoop3.2/examples/src/main/scala/org/apache/spark/examples/ml/UnaryTransformerExample.scala\n",
            "spark-3.0.1-bin-hadoop3.2/examples/src/main/scala/org/apache/spark/examples/ml/Word2VecExample.scala\n",
            "spark-3.0.1-bin-hadoop3.2/examples/src/main/scala/org/apache/spark/examples/ml/LinearSVCExample.scala\n",
            "spark-3.0.1-bin-hadoop3.2/examples/src/main/scala/org/apache/spark/examples/ml/CorrelationExample.scala\n",
            "spark-3.0.1-bin-hadoop3.2/examples/src/main/scala/org/apache/spark/examples/ml/BucketizerExample.scala\n",
            "spark-3.0.1-bin-hadoop3.2/examples/src/main/scala/org/apache/spark/examples/ml/ImputerExample.scala\n",
            "spark-3.0.1-bin-hadoop3.2/examples/src/main/scala/org/apache/spark/examples/ml/StringIndexerExample.scala\n",
            "spark-3.0.1-bin-hadoop3.2/examples/src/main/scala/org/apache/spark/examples/ml/NGramExample.scala\n",
            "spark-3.0.1-bin-hadoop3.2/examples/src/main/scala/org/apache/spark/examples/ml/IsotonicRegressionExample.scala\n",
            "spark-3.0.1-bin-hadoop3.2/examples/src/main/scala/org/apache/spark/examples/ml/DecisionTreeRegressionExample.scala\n",
            "spark-3.0.1-bin-hadoop3.2/examples/src/main/scala/org/apache/spark/examples/ml/OneHotEncoderExample.scala\n",
            "spark-3.0.1-bin-hadoop3.2/examples/src/main/scala/org/apache/spark/examples/ml/ChiSquareTestExample.scala\n",
            "spark-3.0.1-bin-hadoop3.2/examples/src/main/scala/org/apache/spark/examples/ml/PCAExample.scala\n",
            "spark-3.0.1-bin-hadoop3.2/examples/src/main/scala/org/apache/spark/examples/ml/StopWordsRemoverExample.scala\n",
            "spark-3.0.1-bin-hadoop3.2/examples/src/main/scala/org/apache/spark/examples/ml/DeveloperApiExample.scala\n",
            "spark-3.0.1-bin-hadoop3.2/examples/src/main/scala/org/apache/spark/examples/ml/LDAExample.scala\n",
            "spark-3.0.1-bin-hadoop3.2/examples/src/main/scala/org/apache/spark/examples/ml/StandardScalerExample.scala\n",
            "spark-3.0.1-bin-hadoop3.2/examples/src/main/scala/org/apache/spark/examples/ml/GradientBoostedTreeRegressorExample.scala\n",
            "spark-3.0.1-bin-hadoop3.2/examples/src/main/scala/org/apache/spark/examples/ml/RFormulaExample.scala\n",
            "spark-3.0.1-bin-hadoop3.2/examples/src/main/scala/org/apache/spark/examples/ml/MultilayerPerceptronClassifierExample.scala\n",
            "spark-3.0.1-bin-hadoop3.2/examples/src/main/scala/org/apache/spark/examples/ml/RandomForestRegressorExample.scala\n",
            "spark-3.0.1-bin-hadoop3.2/examples/src/main/scala/org/apache/spark/examples/ml/OneVsRestExample.scala\n",
            "spark-3.0.1-bin-hadoop3.2/examples/src/main/scala/org/apache/spark/examples/ml/PolynomialExpansionExample.scala\n",
            "spark-3.0.1-bin-hadoop3.2/examples/src/main/scala/org/apache/spark/examples/ml/ChiSqSelectorExample.scala\n",
            "spark-3.0.1-bin-hadoop3.2/examples/src/main/scala/org/apache/spark/examples/ml/MinMaxScalerExample.scala\n",
            "spark-3.0.1-bin-hadoop3.2/examples/src/main/scala/org/apache/spark/examples/ml/RobustScalerExample.scala\n",
            "spark-3.0.1-bin-hadoop3.2/examples/src/main/scala/org/apache/spark/examples/ml/FeatureHasherExample.scala\n",
            "spark-3.0.1-bin-hadoop3.2/examples/src/main/scala/org/apache/spark/examples/ml/LogisticRegressionWithElasticNetExample.scala\n",
            "spark-3.0.1-bin-hadoop3.2/examples/src/main/scala/org/apache/spark/examples/ml/FMClassifierExample.scala\n",
            "spark-3.0.1-bin-hadoop3.2/examples/src/main/scala/org/apache/spark/examples/ml/IndexToStringExample.scala\n",
            "spark-3.0.1-bin-hadoop3.2/examples/src/main/scala/org/apache/spark/examples/ml/LinearRegressionWithElasticNetExample.scala\n",
            "spark-3.0.1-bin-hadoop3.2/examples/src/main/scala/org/apache/spark/examples/ml/GeneralizedLinearRegressionExample.scala\n",
            "spark-3.0.1-bin-hadoop3.2/examples/src/main/scala/org/apache/spark/examples/ml/RandomForestExample.scala\n",
            "spark-3.0.1-bin-hadoop3.2/examples/src/main/scala/org/apache/spark/examples/ml/BucketedRandomProjectionLSHExample.scala\n",
            "spark-3.0.1-bin-hadoop3.2/examples/src/main/scala/org/apache/spark/examples/ml/LinearRegressionExample.scala\n",
            "spark-3.0.1-bin-hadoop3.2/examples/src/main/scala/org/apache/spark/examples/ml/BisectingKMeansExample.scala\n",
            "spark-3.0.1-bin-hadoop3.2/examples/src/main/scala/org/apache/spark/examples/ml/MinHashLSHExample.scala\n",
            "spark-3.0.1-bin-hadoop3.2/examples/src/main/scala/org/apache/spark/examples/ml/RandomForestClassifierExample.scala\n",
            "spark-3.0.1-bin-hadoop3.2/examples/src/main/scala/org/apache/spark/examples/ml/GradientBoostedTreeClassifierExample.scala\n",
            "spark-3.0.1-bin-hadoop3.2/examples/src/main/scala/org/apache/spark/examples/ml/LogisticRegressionExample.scala\n",
            "spark-3.0.1-bin-hadoop3.2/examples/src/main/scala/org/apache/spark/examples/ml/PowerIterationClusteringExample.scala\n",
            "spark-3.0.1-bin-hadoop3.2/examples/src/main/scala/org/apache/spark/examples/ml/CountVectorizerExample.scala\n",
            "spark-3.0.1-bin-hadoop3.2/examples/src/main/scala/org/apache/spark/examples/ml/TfIdfExample.scala\n",
            "spark-3.0.1-bin-hadoop3.2/examples/src/main/scala/org/apache/spark/examples/ml/VectorSlicerExample.scala\n",
            "spark-3.0.1-bin-hadoop3.2/examples/src/main/scala/org/apache/spark/examples/ml/MulticlassLogisticRegressionWithElasticNetExample.scala\n",
            "spark-3.0.1-bin-hadoop3.2/examples/src/main/scala/org/apache/spark/examples/ml/MaxAbsScalerExample.scala\n",
            "spark-3.0.1-bin-hadoop3.2/examples/src/main/scala/org/apache/spark/examples/ml/BinarizerExample.scala\n",
            "spark-3.0.1-bin-hadoop3.2/examples/src/main/scala/org/apache/spark/examples/ml/DataFrameExample.scala\n",
            "spark-3.0.1-bin-hadoop3.2/examples/src/main/scala/org/apache/spark/examples/ml/InteractionExample.scala\n",
            "spark-3.0.1-bin-hadoop3.2/examples/src/main/scala/org/apache/spark/examples/ml/VectorIndexerExample.scala\n",
            "spark-3.0.1-bin-hadoop3.2/examples/src/main/scala/org/apache/spark/examples/ml/ModelSelectionViaCrossValidationExample.scala\n",
            "spark-3.0.1-bin-hadoop3.2/examples/src/main/scala/org/apache/spark/examples/ml/EstimatorTransformerParamExample.scala\n",
            "spark-3.0.1-bin-hadoop3.2/examples/src/main/scala/org/apache/spark/examples/ml/PipelineExample.scala\n",
            "spark-3.0.1-bin-hadoop3.2/examples/src/main/scala/org/apache/spark/examples/ml/NaiveBayesExample.scala\n",
            "spark-3.0.1-bin-hadoop3.2/examples/src/main/scala/org/apache/spark/examples/ml/VectorSizeHintExample.scala\n",
            "spark-3.0.1-bin-hadoop3.2/examples/src/main/scala/org/apache/spark/examples/ml/PrefixSpanExample.scala\n",
            "spark-3.0.1-bin-hadoop3.2/examples/src/main/scala/org/apache/spark/examples/ml/SQLTransformerExample.scala\n",
            "spark-3.0.1-bin-hadoop3.2/examples/src/main/scala/org/apache/spark/examples/ml/SummarizerExample.scala\n",
            "spark-3.0.1-bin-hadoop3.2/examples/src/main/scala/org/apache/spark/examples/ml/DCTExample.scala\n",
            "spark-3.0.1-bin-hadoop3.2/examples/src/main/scala/org/apache/spark/examples/ml/AFTSurvivalRegressionExample.scala\n",
            "spark-3.0.1-bin-hadoop3.2/examples/src/main/scala/org/apache/spark/examples/ml/ModelSelectionViaTrainValidationSplitExample.scala\n",
            "spark-3.0.1-bin-hadoop3.2/examples/src/main/scala/org/apache/spark/examples/ml/DecisionTreeClassificationExample.scala\n",
            "spark-3.0.1-bin-hadoop3.2/examples/src/main/scala/org/apache/spark/examples/ml/QuantileDiscretizerExample.scala\n",
            "spark-3.0.1-bin-hadoop3.2/examples/src/main/scala/org/apache/spark/examples/ml/NormalizerExample.scala\n",
            "spark-3.0.1-bin-hadoop3.2/examples/src/main/scala/org/apache/spark/examples/ml/FMRegressorExample.scala\n",
            "spark-3.0.1-bin-hadoop3.2/examples/src/main/scala/org/apache/spark/examples/ml/VectorAssemblerExample.scala\n",
            "spark-3.0.1-bin-hadoop3.2/examples/src/main/scala/org/apache/spark/examples/ml/ElementwiseProductExample.scala\n",
            "spark-3.0.1-bin-hadoop3.2/examples/src/main/scala/org/apache/spark/examples/ml/GaussianMixtureExample.scala\n",
            "spark-3.0.1-bin-hadoop3.2/examples/src/main/scala/org/apache/spark/examples/SkewedGroupByTest.scala\n",
            "spark-3.0.1-bin-hadoop3.2/examples/src/main/scala/org/apache/spark/examples/SparkALS.scala\n",
            "spark-3.0.1-bin-hadoop3.2/examples/src/main/scala/org/apache/spark/examples/mllib/\n",
            "spark-3.0.1-bin-hadoop3.2/examples/src/main/scala/org/apache/spark/examples/mllib/HypothesisTestingExample.scala\n",
            "spark-3.0.1-bin-hadoop3.2/examples/src/main/scala/org/apache/spark/examples/mllib/KernelDensityEstimationExample.scala\n",
            "spark-3.0.1-bin-hadoop3.2/examples/src/main/scala/org/apache/spark/examples/mllib/FPGrowthExample.scala\n",
            "spark-3.0.1-bin-hadoop3.2/examples/src/main/scala/org/apache/spark/examples/mllib/LBFGSExample.scala\n",
            "spark-3.0.1-bin-hadoop3.2/examples/src/main/scala/org/apache/spark/examples/mllib/SVDExample.scala\n",
            "spark-3.0.1-bin-hadoop3.2/examples/src/main/scala/org/apache/spark/examples/mllib/KMeansExample.scala\n",
            "spark-3.0.1-bin-hadoop3.2/examples/src/main/scala/org/apache/spark/examples/mllib/Word2VecExample.scala\n",
            "spark-3.0.1-bin-hadoop3.2/examples/src/main/scala/org/apache/spark/examples/mllib/StratifiedSamplingExample.scala\n",
            "spark-3.0.1-bin-hadoop3.2/examples/src/main/scala/org/apache/spark/examples/mllib/LogisticRegressionWithLBFGSExample.scala\n",
            "spark-3.0.1-bin-hadoop3.2/examples/src/main/scala/org/apache/spark/examples/mllib/IsotonicRegressionExample.scala\n",
            "spark-3.0.1-bin-hadoop3.2/examples/src/main/scala/org/apache/spark/examples/mllib/RandomRDDGeneration.scala\n",
            "spark-3.0.1-bin-hadoop3.2/examples/src/main/scala/org/apache/spark/examples/mllib/DecisionTreeRegressionExample.scala\n",
            "spark-3.0.1-bin-hadoop3.2/examples/src/main/scala/org/apache/spark/examples/mllib/SummaryStatisticsExample.scala\n",
            "spark-3.0.1-bin-hadoop3.2/examples/src/main/scala/org/apache/spark/examples/mllib/StreamingTestExample.scala\n",
            "spark-3.0.1-bin-hadoop3.2/examples/src/main/scala/org/apache/spark/examples/mllib/PMMLModelExportExample.scala\n",
            "spark-3.0.1-bin-hadoop3.2/examples/src/main/scala/org/apache/spark/examples/mllib/BinaryClassificationMetricsExample.scala\n",
            "spark-3.0.1-bin-hadoop3.2/examples/src/main/scala/org/apache/spark/examples/mllib/MulticlassMetricsExample.scala\n",
            "spark-3.0.1-bin-hadoop3.2/examples/src/main/scala/org/apache/spark/examples/mllib/LDAExample.scala\n",
            "spark-3.0.1-bin-hadoop3.2/examples/src/main/scala/org/apache/spark/examples/mllib/StreamingKMeansExample.scala\n",
            "spark-3.0.1-bin-hadoop3.2/examples/src/main/scala/org/apache/spark/examples/mllib/StandardScalerExample.scala\n",
            "spark-3.0.1-bin-hadoop3.2/examples/src/main/scala/org/apache/spark/examples/mllib/SimpleFPGrowth.scala\n",
            "spark-3.0.1-bin-hadoop3.2/examples/src/main/scala/org/apache/spark/examples/mllib/PCAOnRowMatrixExample.scala\n",
            "spark-3.0.1-bin-hadoop3.2/examples/src/main/scala/org/apache/spark/examples/mllib/Correlations.scala\n",
            "spark-3.0.1-bin-hadoop3.2/examples/src/main/scala/org/apache/spark/examples/mllib/ChiSqSelectorExample.scala\n",
            "spark-3.0.1-bin-hadoop3.2/examples/src/main/scala/org/apache/spark/examples/mllib/SparseNaiveBayes.scala\n",
            "spark-3.0.1-bin-hadoop3.2/examples/src/main/scala/org/apache/spark/examples/mllib/StreamingLinearRegressionExample.scala\n",
            "spark-3.0.1-bin-hadoop3.2/examples/src/main/scala/org/apache/spark/examples/mllib/SVMWithSGDExample.scala\n",
            "spark-3.0.1-bin-hadoop3.2/examples/src/main/scala/org/apache/spark/examples/mllib/MultivariateSummarizer.scala\n",
            "spark-3.0.1-bin-hadoop3.2/examples/src/main/scala/org/apache/spark/examples/mllib/TallSkinnySVD.scala\n",
            "spark-3.0.1-bin-hadoop3.2/examples/src/main/scala/org/apache/spark/examples/mllib/TFIDFExample.scala\n",
            "spark-3.0.1-bin-hadoop3.2/examples/src/main/scala/org/apache/spark/examples/mllib/GradientBoostedTreesRunner.scala\n",
            "spark-3.0.1-bin-hadoop3.2/examples/src/main/scala/org/apache/spark/examples/mllib/MovieLensALS.scala\n",
            "spark-3.0.1-bin-hadoop3.2/examples/src/main/scala/org/apache/spark/examples/mllib/PCAOnSourceVectorExample.scala\n",
            "spark-3.0.1-bin-hadoop3.2/examples/src/main/scala/org/apache/spark/examples/mllib/MultiLabelMetricsExample.scala\n",
            "spark-3.0.1-bin-hadoop3.2/examples/src/main/scala/org/apache/spark/examples/mllib/RecommendationExample.scala\n",
            "spark-3.0.1-bin-hadoop3.2/examples/src/main/scala/org/apache/spark/examples/mllib/BisectingKMeansExample.scala\n",
            "spark-3.0.1-bin-hadoop3.2/examples/src/main/scala/org/apache/spark/examples/mllib/GradientBoostingClassificationExample.scala\n",
            "spark-3.0.1-bin-hadoop3.2/examples/src/main/scala/org/apache/spark/examples/mllib/PowerIterationClusteringExample.scala\n",
            "spark-3.0.1-bin-hadoop3.2/examples/src/main/scala/org/apache/spark/examples/mllib/LatentDirichletAllocationExample.scala\n",
            "spark-3.0.1-bin-hadoop3.2/examples/src/main/scala/org/apache/spark/examples/mllib/RankingMetricsExample.scala\n",
            "spark-3.0.1-bin-hadoop3.2/examples/src/main/scala/org/apache/spark/examples/mllib/DenseKMeans.scala\n",
            "spark-3.0.1-bin-hadoop3.2/examples/src/main/scala/org/apache/spark/examples/mllib/RandomForestClassificationExample.scala\n",
            "spark-3.0.1-bin-hadoop3.2/examples/src/main/scala/org/apache/spark/examples/mllib/TallSkinnyPCA.scala\n",
            "spark-3.0.1-bin-hadoop3.2/examples/src/main/scala/org/apache/spark/examples/mllib/AbstractParams.scala\n",
            "spark-3.0.1-bin-hadoop3.2/examples/src/main/scala/org/apache/spark/examples/mllib/NaiveBayesExample.scala\n",
            "spark-3.0.1-bin-hadoop3.2/examples/src/main/scala/org/apache/spark/examples/mllib/PrefixSpanExample.scala\n",
            "spark-3.0.1-bin-hadoop3.2/examples/src/main/scala/org/apache/spark/examples/mllib/GradientBoostingRegressionExample.scala\n",
            "spark-3.0.1-bin-hadoop3.2/examples/src/main/scala/org/apache/spark/examples/mllib/DecisionTreeRunner.scala\n",
            "spark-3.0.1-bin-hadoop3.2/examples/src/main/scala/org/apache/spark/examples/mllib/StreamingLogisticRegression.scala\n",
            "spark-3.0.1-bin-hadoop3.2/examples/src/main/scala/org/apache/spark/examples/mllib/HypothesisTestingKolmogorovSmirnovTestExample.scala\n",
            "spark-3.0.1-bin-hadoop3.2/examples/src/main/scala/org/apache/spark/examples/mllib/BinaryClassification.scala\n",
            "spark-3.0.1-bin-hadoop3.2/examples/src/main/scala/org/apache/spark/examples/mllib/DecisionTreeClassificationExample.scala\n",
            "spark-3.0.1-bin-hadoop3.2/examples/src/main/scala/org/apache/spark/examples/mllib/SampledRDDs.scala\n",
            "spark-3.0.1-bin-hadoop3.2/examples/src/main/scala/org/apache/spark/examples/mllib/AssociationRulesExample.scala\n",
            "spark-3.0.1-bin-hadoop3.2/examples/src/main/scala/org/apache/spark/examples/mllib/CosineSimilarity.scala\n",
            "spark-3.0.1-bin-hadoop3.2/examples/src/main/scala/org/apache/spark/examples/mllib/RandomForestRegressionExample.scala\n",
            "spark-3.0.1-bin-hadoop3.2/examples/src/main/scala/org/apache/spark/examples/mllib/CorrelationsExample.scala\n",
            "spark-3.0.1-bin-hadoop3.2/examples/src/main/scala/org/apache/spark/examples/mllib/NormalizerExample.scala\n",
            "spark-3.0.1-bin-hadoop3.2/examples/src/main/scala/org/apache/spark/examples/mllib/ElementwiseProductExample.scala\n",
            "spark-3.0.1-bin-hadoop3.2/examples/src/main/scala/org/apache/spark/examples/mllib/GaussianMixtureExample.scala\n",
            "spark-3.0.1-bin-hadoop3.2/examples/src/main/scala/org/apache/spark/examples/ExceptionHandlingTest.scala\n",
            "spark-3.0.1-bin-hadoop3.2/examples/src/main/scala/org/apache/spark/examples/BroadcastTest.scala\n",
            "spark-3.0.1-bin-hadoop3.2/examples/src/main/scala/org/apache/spark/examples/HdfsTest.scala\n",
            "spark-3.0.1-bin-hadoop3.2/examples/src/main/scala/org/apache/spark/examples/SparkHdfsLR.scala\n",
            "spark-3.0.1-bin-hadoop3.2/examples/src/main/scala/org/apache/spark/examples/streaming/\n",
            "spark-3.0.1-bin-hadoop3.2/examples/src/main/scala/org/apache/spark/examples/streaming/SqlNetworkWordCount.scala\n",
            "spark-3.0.1-bin-hadoop3.2/examples/src/main/scala/org/apache/spark/examples/streaming/QueueStream.scala\n",
            "spark-3.0.1-bin-hadoop3.2/examples/src/main/scala/org/apache/spark/examples/streaming/RawNetworkGrep.scala\n",
            "spark-3.0.1-bin-hadoop3.2/examples/src/main/scala/org/apache/spark/examples/streaming/DirectKafkaWordCount.scala\n",
            "spark-3.0.1-bin-hadoop3.2/examples/src/main/scala/org/apache/spark/examples/streaming/StatefulNetworkWordCount.scala\n",
            "spark-3.0.1-bin-hadoop3.2/examples/src/main/scala/org/apache/spark/examples/streaming/DirectKerberizedKafkaWordCount.scala\n",
            "spark-3.0.1-bin-hadoop3.2/examples/src/main/scala/org/apache/spark/examples/streaming/HdfsWordCount.scala\n",
            "spark-3.0.1-bin-hadoop3.2/examples/src/main/scala/org/apache/spark/examples/streaming/CustomReceiver.scala\n",
            "spark-3.0.1-bin-hadoop3.2/examples/src/main/scala/org/apache/spark/examples/streaming/StreamingExamples.scala\n",
            "spark-3.0.1-bin-hadoop3.2/examples/src/main/scala/org/apache/spark/examples/streaming/clickstream/\n",
            "spark-3.0.1-bin-hadoop3.2/examples/src/main/scala/org/apache/spark/examples/streaming/clickstream/PageViewStream.scala\n",
            "spark-3.0.1-bin-hadoop3.2/examples/src/main/scala/org/apache/spark/examples/streaming/clickstream/PageViewGenerator.scala\n",
            "spark-3.0.1-bin-hadoop3.2/examples/src/main/scala/org/apache/spark/examples/streaming/RecoverableNetworkWordCount.scala\n",
            "spark-3.0.1-bin-hadoop3.2/examples/src/main/scala/org/apache/spark/examples/streaming/NetworkWordCount.scala\n",
            "spark-3.0.1-bin-hadoop3.2/examples/src/main/scala/org/apache/spark/examples/LocalLR.scala\n",
            "spark-3.0.1-bin-hadoop3.2/examples/src/main/scala/org/apache/spark/examples/SparkKMeans.scala\n",
            "spark-3.0.1-bin-hadoop3.2/examples/src/main/scala/org/apache/spark/examples/MultiBroadcastTest.scala\n",
            "spark-3.0.1-bin-hadoop3.2/examples/src/main/scala/org/apache/spark/examples/SparkLR.scala\n",
            "spark-3.0.1-bin-hadoop3.2/examples/src/main/scala/org/apache/spark/examples/LocalPi.scala\n",
            "spark-3.0.1-bin-hadoop3.2/examples/src/main/scala/org/apache/spark/examples/graphx/\n",
            "spark-3.0.1-bin-hadoop3.2/examples/src/main/scala/org/apache/spark/examples/graphx/Analytics.scala\n",
            "spark-3.0.1-bin-hadoop3.2/examples/src/main/scala/org/apache/spark/examples/graphx/SynthBenchmark.scala\n",
            "spark-3.0.1-bin-hadoop3.2/examples/src/main/scala/org/apache/spark/examples/graphx/ComprehensiveExample.scala\n",
            "spark-3.0.1-bin-hadoop3.2/examples/src/main/scala/org/apache/spark/examples/graphx/AggregateMessagesExample.scala\n",
            "spark-3.0.1-bin-hadoop3.2/examples/src/main/scala/org/apache/spark/examples/graphx/SSSPExample.scala\n",
            "spark-3.0.1-bin-hadoop3.2/examples/src/main/scala/org/apache/spark/examples/graphx/PageRankExample.scala\n",
            "spark-3.0.1-bin-hadoop3.2/examples/src/main/scala/org/apache/spark/examples/graphx/ConnectedComponentsExample.scala\n",
            "spark-3.0.1-bin-hadoop3.2/examples/src/main/scala/org/apache/spark/examples/graphx/LiveJournalPageRank.scala\n",
            "spark-3.0.1-bin-hadoop3.2/examples/src/main/scala/org/apache/spark/examples/graphx/TriangleCountingExample.scala\n",
            "spark-3.0.1-bin-hadoop3.2/examples/src/main/scala/org/apache/spark/examples/LocalFileLR.scala\n",
            "spark-3.0.1-bin-hadoop3.2/examples/src/main/scala/org/apache/spark/examples/SparkPageRank.scala\n",
            "spark-3.0.1-bin-hadoop3.2/examples/src/main/scala/org/apache/spark/examples/sql/\n",
            "spark-3.0.1-bin-hadoop3.2/examples/src/main/scala/org/apache/spark/examples/sql/RDDRelation.scala\n",
            "spark-3.0.1-bin-hadoop3.2/examples/src/main/scala/org/apache/spark/examples/sql/SimpleTypedAggregator.scala\n",
            "spark-3.0.1-bin-hadoop3.2/examples/src/main/scala/org/apache/spark/examples/sql/streaming/\n",
            "spark-3.0.1-bin-hadoop3.2/examples/src/main/scala/org/apache/spark/examples/sql/streaming/StructuredNetworkWordCount.scala\n",
            "spark-3.0.1-bin-hadoop3.2/examples/src/main/scala/org/apache/spark/examples/sql/streaming/StructuredNetworkWordCountWindowed.scala\n",
            "spark-3.0.1-bin-hadoop3.2/examples/src/main/scala/org/apache/spark/examples/sql/streaming/StructuredSessionization.scala\n",
            "spark-3.0.1-bin-hadoop3.2/examples/src/main/scala/org/apache/spark/examples/sql/streaming/StructuredKafkaWordCount.scala\n",
            "spark-3.0.1-bin-hadoop3.2/examples/src/main/scala/org/apache/spark/examples/sql/streaming/StructuredKerberizedKafkaWordCount.scala\n",
            "spark-3.0.1-bin-hadoop3.2/examples/src/main/scala/org/apache/spark/examples/sql/hive/\n",
            "spark-3.0.1-bin-hadoop3.2/examples/src/main/scala/org/apache/spark/examples/sql/hive/SparkHiveExample.scala\n",
            "spark-3.0.1-bin-hadoop3.2/examples/src/main/scala/org/apache/spark/examples/sql/UserDefinedScalar.scala\n",
            "spark-3.0.1-bin-hadoop3.2/examples/src/main/scala/org/apache/spark/examples/sql/UserDefinedTypedAggregation.scala\n",
            "spark-3.0.1-bin-hadoop3.2/examples/src/main/scala/org/apache/spark/examples/sql/SparkSQLExample.scala\n",
            "spark-3.0.1-bin-hadoop3.2/examples/src/main/scala/org/apache/spark/examples/sql/SQLDataSourceExample.scala\n",
            "spark-3.0.1-bin-hadoop3.2/examples/src/main/scala/org/apache/spark/examples/sql/UserDefinedUntypedAggregation.scala\n",
            "spark-3.0.1-bin-hadoop3.2/examples/src/main/scala/org/apache/spark/examples/SimpleSkewedGroupByTest.scala\n",
            "spark-3.0.1-bin-hadoop3.2/examples/src/main/scala/org/apache/spark/examples/LocalKMeans.scala\n",
            "spark-3.0.1-bin-hadoop3.2/examples/src/main/scala/org/apache/spark/examples/AccumulatorMetricsTest.scala\n",
            "spark-3.0.1-bin-hadoop3.2/examples/src/main/scala/org/apache/spark/examples/pythonconverters/\n",
            "spark-3.0.1-bin-hadoop3.2/examples/src/main/scala/org/apache/spark/examples/pythonconverters/AvroConverters.scala\n",
            "spark-3.0.1-bin-hadoop3.2/examples/src/main/scala/org/apache/spark/examples/SparkPi.scala\n",
            "spark-3.0.1-bin-hadoop3.2/examples/src/main/scala/org/apache/spark/examples/LocalALS.scala\n",
            "spark-3.0.1-bin-hadoop3.2/examples/src/main/scala/org/apache/spark/examples/GroupByTest.scala\n",
            "spark-3.0.1-bin-hadoop3.2/examples/src/main/scala/org/apache/spark/examples/LogQuery.scala\n",
            "spark-3.0.1-bin-hadoop3.2/examples/src/main/scala/org/apache/spark/examples/DriverSubmissionTest.scala\n",
            "spark-3.0.1-bin-hadoop3.2/examples/src/main/scala/org/apache/spark/examples/DFSReadWriteTest.scala\n",
            "spark-3.0.1-bin-hadoop3.2/examples/src/main/scala/org/apache/spark/examples/SparkRemoteFileTest.scala\n",
            "spark-3.0.1-bin-hadoop3.2/examples/src/main/scala/org/apache/spark/examples/SparkTC.scala\n",
            "spark-3.0.1-bin-hadoop3.2/examples/src/main/resources/\n",
            "spark-3.0.1-bin-hadoop3.2/examples/src/main/resources/users.avro\n",
            "spark-3.0.1-bin-hadoop3.2/examples/src/main/resources/full_user.avsc\n",
            "spark-3.0.1-bin-hadoop3.2/examples/src/main/resources/dir1/\n",
            "spark-3.0.1-bin-hadoop3.2/examples/src/main/resources/dir1/file1.parquet\n",
            "spark-3.0.1-bin-hadoop3.2/examples/src/main/resources/dir1/file3.json\n",
            "spark-3.0.1-bin-hadoop3.2/examples/src/main/resources/dir1/dir2/\n",
            "spark-3.0.1-bin-hadoop3.2/examples/src/main/resources/dir1/dir2/file2.parquet\n",
            "spark-3.0.1-bin-hadoop3.2/examples/src/main/resources/users.orc\n",
            "spark-3.0.1-bin-hadoop3.2/examples/src/main/resources/kv1.txt\n",
            "spark-3.0.1-bin-hadoop3.2/examples/src/main/resources/users.parquet\n",
            "spark-3.0.1-bin-hadoop3.2/examples/src/main/resources/people.txt\n",
            "spark-3.0.1-bin-hadoop3.2/examples/src/main/resources/user.avsc\n",
            "spark-3.0.1-bin-hadoop3.2/examples/src/main/resources/people.csv\n",
            "spark-3.0.1-bin-hadoop3.2/examples/src/main/resources/employees.json\n",
            "spark-3.0.1-bin-hadoop3.2/examples/src/main/resources/people.json\n",
            "spark-3.0.1-bin-hadoop3.2/examples/src/main/scripts/\n",
            "spark-3.0.1-bin-hadoop3.2/examples/src/main/scripts/getGpusResources.sh\n",
            "spark-3.0.1-bin-hadoop3.2/examples/src/main/java/\n",
            "spark-3.0.1-bin-hadoop3.2/examples/src/main/java/org/\n",
            "spark-3.0.1-bin-hadoop3.2/examples/src/main/java/org/apache/\n",
            "spark-3.0.1-bin-hadoop3.2/examples/src/main/java/org/apache/spark/\n",
            "spark-3.0.1-bin-hadoop3.2/examples/src/main/java/org/apache/spark/examples/\n",
            "spark-3.0.1-bin-hadoop3.2/examples/src/main/java/org/apache/spark/examples/ml/\n",
            "spark-3.0.1-bin-hadoop3.2/examples/src/main/java/org/apache/spark/examples/ml/JavaInteractionExample.java\n",
            "spark-3.0.1-bin-hadoop3.2/examples/src/main/java/org/apache/spark/examples/ml/JavaRFormulaExample.java\n",
            "spark-3.0.1-bin-hadoop3.2/examples/src/main/java/org/apache/spark/examples/ml/JavaNaiveBayesExample.java\n",
            "spark-3.0.1-bin-hadoop3.2/examples/src/main/java/org/apache/spark/examples/ml/JavaImputerExample.java\n",
            "spark-3.0.1-bin-hadoop3.2/examples/src/main/java/org/apache/spark/examples/ml/JavaMultilayerPerceptronClassifierExample.java\n",
            "spark-3.0.1-bin-hadoop3.2/examples/src/main/java/org/apache/spark/examples/ml/JavaRandomForestRegressorExample.java\n",
            "spark-3.0.1-bin-hadoop3.2/examples/src/main/java/org/apache/spark/examples/ml/JavaRandomForestClassifierExample.java\n",
            "spark-3.0.1-bin-hadoop3.2/examples/src/main/java/org/apache/spark/examples/ml/JavaTfIdfExample.java\n",
            "spark-3.0.1-bin-hadoop3.2/examples/src/main/java/org/apache/spark/examples/ml/JavaGradientBoostedTreeClassifierExample.java\n",
            "spark-3.0.1-bin-hadoop3.2/examples/src/main/java/org/apache/spark/examples/ml/JavaCountVectorizerExample.java\n",
            "spark-3.0.1-bin-hadoop3.2/examples/src/main/java/org/apache/spark/examples/ml/JavaRobustScalerExample.java\n",
            "spark-3.0.1-bin-hadoop3.2/examples/src/main/java/org/apache/spark/examples/ml/JavaLogisticRegressionWithElasticNetExample.java\n",
            "spark-3.0.1-bin-hadoop3.2/examples/src/main/java/org/apache/spark/examples/ml/JavaVectorSizeHintExample.java\n",
            "spark-3.0.1-bin-hadoop3.2/examples/src/main/java/org/apache/spark/examples/ml/JavaMulticlassLogisticRegressionWithElasticNetExample.java\n",
            "spark-3.0.1-bin-hadoop3.2/examples/src/main/java/org/apache/spark/examples/ml/JavaKMeansExample.java\n",
            "spark-3.0.1-bin-hadoop3.2/examples/src/main/java/org/apache/spark/examples/ml/JavaVectorIndexerExample.java\n",
            "spark-3.0.1-bin-hadoop3.2/examples/src/main/java/org/apache/spark/examples/ml/JavaBinarizerExample.java\n",
            "spark-3.0.1-bin-hadoop3.2/examples/src/main/java/org/apache/spark/examples/ml/JavaPolynomialExpansionExample.java\n",
            "spark-3.0.1-bin-hadoop3.2/examples/src/main/java/org/apache/spark/examples/ml/JavaStringIndexerExample.java\n",
            "spark-3.0.1-bin-hadoop3.2/examples/src/main/java/org/apache/spark/examples/ml/JavaPCAExample.java\n",
            "spark-3.0.1-bin-hadoop3.2/examples/src/main/java/org/apache/spark/examples/ml/JavaOneVsRestExample.java\n",
            "spark-3.0.1-bin-hadoop3.2/examples/src/main/java/org/apache/spark/examples/ml/JavaLabeledDocument.java\n",
            "spark-3.0.1-bin-hadoop3.2/examples/src/main/java/org/apache/spark/examples/ml/JavaFeatureHasherExample.java\n",
            "spark-3.0.1-bin-hadoop3.2/examples/src/main/java/org/apache/spark/examples/ml/JavaFMRegressorExample.java\n",
            "spark-3.0.1-bin-hadoop3.2/examples/src/main/java/org/apache/spark/examples/ml/JavaVectorAssemblerExample.java\n",
            "spark-3.0.1-bin-hadoop3.2/examples/src/main/java/org/apache/spark/examples/ml/JavaSummarizerExample.java\n",
            "spark-3.0.1-bin-hadoop3.2/examples/src/main/java/org/apache/spark/examples/ml/JavaBisectingKMeansExample.java\n",
            "spark-3.0.1-bin-hadoop3.2/examples/src/main/java/org/apache/spark/examples/ml/JavaPrefixSpanExample.java\n",
            "spark-3.0.1-bin-hadoop3.2/examples/src/main/java/org/apache/spark/examples/ml/JavaBucketedRandomProjectionLSHExample.java\n",
            "spark-3.0.1-bin-hadoop3.2/examples/src/main/java/org/apache/spark/examples/ml/JavaWord2VecExample.java\n",
            "spark-3.0.1-bin-hadoop3.2/examples/src/main/java/org/apache/spark/examples/ml/JavaVectorSlicerExample.java\n",
            "spark-3.0.1-bin-hadoop3.2/examples/src/main/java/org/apache/spark/examples/ml/JavaLinearRegressionWithElasticNetExample.java\n",
            "spark-3.0.1-bin-hadoop3.2/examples/src/main/java/org/apache/spark/examples/ml/JavaIndexToStringExample.java\n",
            "spark-3.0.1-bin-hadoop3.2/examples/src/main/java/org/apache/spark/examples/ml/JavaDecisionTreeClassificationExample.java\n",
            "spark-3.0.1-bin-hadoop3.2/examples/src/main/java/org/apache/spark/examples/ml/JavaDCTExample.java\n",
            "spark-3.0.1-bin-hadoop3.2/examples/src/main/java/org/apache/spark/examples/ml/JavaTokenizerExample.java\n",
            "spark-3.0.1-bin-hadoop3.2/examples/src/main/java/org/apache/spark/examples/ml/JavaALSExample.java\n",
            "spark-3.0.1-bin-hadoop3.2/examples/src/main/java/org/apache/spark/examples/ml/JavaFMClassifierExample.java\n",
            "spark-3.0.1-bin-hadoop3.2/examples/src/main/java/org/apache/spark/examples/ml/JavaEstimatorTransformerParamExample.java\n",
            "spark-3.0.1-bin-hadoop3.2/examples/src/main/java/org/apache/spark/examples/ml/JavaSQLTransformerExample.java\n",
            "spark-3.0.1-bin-hadoop3.2/examples/src/main/java/org/apache/spark/examples/ml/JavaModelSelectionViaTrainValidationSplitExample.java\n",
            "spark-3.0.1-bin-hadoop3.2/examples/src/main/java/org/apache/spark/examples/ml/JavaQuantileDiscretizerExample.java\n",
            "spark-3.0.1-bin-hadoop3.2/examples/src/main/java/org/apache/spark/examples/ml/JavaCorrelationExample.java\n",
            "spark-3.0.1-bin-hadoop3.2/examples/src/main/java/org/apache/spark/examples/ml/JavaNGramExample.java\n",
            "spark-3.0.1-bin-hadoop3.2/examples/src/main/java/org/apache/spark/examples/ml/JavaGradientBoostedTreeRegressorExample.java\n",
            "spark-3.0.1-bin-hadoop3.2/examples/src/main/java/org/apache/spark/examples/ml/JavaModelSelectionViaCrossValidationExample.java\n",
            "spark-3.0.1-bin-hadoop3.2/examples/src/main/java/org/apache/spark/examples/ml/JavaIsotonicRegressionExample.java\n",
            "spark-3.0.1-bin-hadoop3.2/examples/src/main/java/org/apache/spark/examples/ml/JavaMinMaxScalerExample.java\n",
            "spark-3.0.1-bin-hadoop3.2/examples/src/main/java/org/apache/spark/examples/ml/JavaChiSquareTestExample.java\n",
            "spark-3.0.1-bin-hadoop3.2/examples/src/main/java/org/apache/spark/examples/ml/JavaElementwiseProductExample.java\n",
            "spark-3.0.1-bin-hadoop3.2/examples/src/main/java/org/apache/spark/examples/ml/JavaAFTSurvivalRegressionExample.java\n",
            "spark-3.0.1-bin-hadoop3.2/examples/src/main/java/org/apache/spark/examples/ml/JavaStandardScalerExample.java\n",
            "spark-3.0.1-bin-hadoop3.2/examples/src/main/java/org/apache/spark/examples/ml/JavaDecisionTreeRegressionExample.java\n",
            "spark-3.0.1-bin-hadoop3.2/examples/src/main/java/org/apache/spark/examples/ml/JavaOneHotEncoderExample.java\n",
            "spark-3.0.1-bin-hadoop3.2/examples/src/main/java/org/apache/spark/examples/ml/JavaDocument.java\n",
            "spark-3.0.1-bin-hadoop3.2/examples/src/main/java/org/apache/spark/examples/ml/JavaFPGrowthExample.java\n",
            "spark-3.0.1-bin-hadoop3.2/examples/src/main/java/org/apache/spark/examples/ml/JavaLDAExample.java\n",
            "spark-3.0.1-bin-hadoop3.2/examples/src/main/java/org/apache/spark/examples/ml/JavaMinHashLSHExample.java\n",
            "spark-3.0.1-bin-hadoop3.2/examples/src/main/java/org/apache/spark/examples/ml/JavaChiSqSelectorExample.java\n",
            "spark-3.0.1-bin-hadoop3.2/examples/src/main/java/org/apache/spark/examples/ml/JavaNormalizerExample.java\n",
            "spark-3.0.1-bin-hadoop3.2/examples/src/main/java/org/apache/spark/examples/ml/JavaGaussianMixtureExample.java\n",
            "spark-3.0.1-bin-hadoop3.2/examples/src/main/java/org/apache/spark/examples/ml/JavaStopWordsRemoverExample.java\n",
            "spark-3.0.1-bin-hadoop3.2/examples/src/main/java/org/apache/spark/examples/ml/JavaPipelineExample.java\n",
            "spark-3.0.1-bin-hadoop3.2/examples/src/main/java/org/apache/spark/examples/ml/JavaGeneralizedLinearRegressionExample.java\n",
            "spark-3.0.1-bin-hadoop3.2/examples/src/main/java/org/apache/spark/examples/ml/JavaLinearSVCExample.java\n",
            "spark-3.0.1-bin-hadoop3.2/examples/src/main/java/org/apache/spark/examples/ml/JavaLogisticRegressionSummaryExample.java\n",
            "spark-3.0.1-bin-hadoop3.2/examples/src/main/java/org/apache/spark/examples/ml/JavaPowerIterationClusteringExample.java\n",
            "spark-3.0.1-bin-hadoop3.2/examples/src/main/java/org/apache/spark/examples/ml/JavaMaxAbsScalerExample.java\n",
            "spark-3.0.1-bin-hadoop3.2/examples/src/main/java/org/apache/spark/examples/ml/JavaBucketizerExample.java\n",
            "spark-3.0.1-bin-hadoop3.2/examples/src/main/java/org/apache/spark/examples/JavaHdfsLR.java\n",
            "spark-3.0.1-bin-hadoop3.2/examples/src/main/java/org/apache/spark/examples/mllib/\n",
            "spark-3.0.1-bin-hadoop3.2/examples/src/main/java/org/apache/spark/examples/mllib/JavaNaiveBayesExample.java\n",
            "spark-3.0.1-bin-hadoop3.2/examples/src/main/java/org/apache/spark/examples/mllib/JavaSVDExample.java\n",
            "spark-3.0.1-bin-hadoop3.2/examples/src/main/java/org/apache/spark/examples/mllib/JavaKernelDensityEstimationExample.java\n",
            "spark-3.0.1-bin-hadoop3.2/examples/src/main/java/org/apache/spark/examples/mllib/JavaHypothesisTestingKolmogorovSmirnovTestExample.java\n",
            "spark-3.0.1-bin-hadoop3.2/examples/src/main/java/org/apache/spark/examples/mllib/JavaKMeansExample.java\n",
            "spark-3.0.1-bin-hadoop3.2/examples/src/main/java/org/apache/spark/examples/mllib/JavaPCAExample.java\n",
            "spark-3.0.1-bin-hadoop3.2/examples/src/main/java/org/apache/spark/examples/mllib/JavaRandomForestClassificationExample.java\n",
            "spark-3.0.1-bin-hadoop3.2/examples/src/main/java/org/apache/spark/examples/mllib/JavaCorrelationsExample.java\n",
            "spark-3.0.1-bin-hadoop3.2/examples/src/main/java/org/apache/spark/examples/mllib/JavaLatentDirichletAllocationExample.java\n",
            "spark-3.0.1-bin-hadoop3.2/examples/src/main/java/org/apache/spark/examples/mllib/JavaBisectingKMeansExample.java\n",
            "spark-3.0.1-bin-hadoop3.2/examples/src/main/java/org/apache/spark/examples/mllib/JavaPrefixSpanExample.java\n",
            "spark-3.0.1-bin-hadoop3.2/examples/src/main/java/org/apache/spark/examples/mllib/JavaSummaryStatisticsExample.java\n",
            "spark-3.0.1-bin-hadoop3.2/examples/src/main/java/org/apache/spark/examples/mllib/JavaSVMWithSGDExample.java\n",
            "spark-3.0.1-bin-hadoop3.2/examples/src/main/java/org/apache/spark/examples/mllib/JavaGradientBoostingRegressionExample.java\n",
            "spark-3.0.1-bin-hadoop3.2/examples/src/main/java/org/apache/spark/examples/mllib/JavaDecisionTreeClassificationExample.java\n",
            "spark-3.0.1-bin-hadoop3.2/examples/src/main/java/org/apache/spark/examples/mllib/JavaBinaryClassificationMetricsExample.java\n",
            "spark-3.0.1-bin-hadoop3.2/examples/src/main/java/org/apache/spark/examples/mllib/JavaSimpleFPGrowth.java\n",
            "spark-3.0.1-bin-hadoop3.2/examples/src/main/java/org/apache/spark/examples/mllib/JavaALS.java\n",
            "spark-3.0.1-bin-hadoop3.2/examples/src/main/java/org/apache/spark/examples/mllib/JavaIsotonicRegressionExample.java\n",
            "spark-3.0.1-bin-hadoop3.2/examples/src/main/java/org/apache/spark/examples/mllib/JavaElementwiseProductExample.java\n",
            "spark-3.0.1-bin-hadoop3.2/examples/src/main/java/org/apache/spark/examples/mllib/JavaGradientBoostingClassificationExample.java\n",
            "spark-3.0.1-bin-hadoop3.2/examples/src/main/java/org/apache/spark/examples/mllib/JavaMulticlassClassificationMetricsExample.java\n",
            "spark-3.0.1-bin-hadoop3.2/examples/src/main/java/org/apache/spark/examples/mllib/JavaLogisticRegressionWithLBFGSExample.java\n",
            "spark-3.0.1-bin-hadoop3.2/examples/src/main/java/org/apache/spark/examples/mllib/JavaRecommendationExample.java\n",
            "spark-3.0.1-bin-hadoop3.2/examples/src/main/java/org/apache/spark/examples/mllib/JavaAssociationRulesExample.java\n",
            "spark-3.0.1-bin-hadoop3.2/examples/src/main/java/org/apache/spark/examples/mllib/JavaDecisionTreeRegressionExample.java\n",
            "spark-3.0.1-bin-hadoop3.2/examples/src/main/java/org/apache/spark/examples/mllib/JavaLBFGSExample.java\n",
            "spark-3.0.1-bin-hadoop3.2/examples/src/main/java/org/apache/spark/examples/mllib/JavaHypothesisTestingExample.java\n",
            "spark-3.0.1-bin-hadoop3.2/examples/src/main/java/org/apache/spark/examples/mllib/JavaRankingMetricsExample.java\n",
            "spark-3.0.1-bin-hadoop3.2/examples/src/main/java/org/apache/spark/examples/mllib/JavaMultiLabelClassificationMetricsExample.java\n",
            "spark-3.0.1-bin-hadoop3.2/examples/src/main/java/org/apache/spark/examples/mllib/JavaStratifiedSamplingExample.java\n",
            "spark-3.0.1-bin-hadoop3.2/examples/src/main/java/org/apache/spark/examples/mllib/JavaChiSqSelectorExample.java\n",
            "spark-3.0.1-bin-hadoop3.2/examples/src/main/java/org/apache/spark/examples/mllib/JavaGaussianMixtureExample.java\n",
            "spark-3.0.1-bin-hadoop3.2/examples/src/main/java/org/apache/spark/examples/mllib/JavaRandomForestRegressionExample.java\n",
            "spark-3.0.1-bin-hadoop3.2/examples/src/main/java/org/apache/spark/examples/mllib/JavaStreamingTestExample.java\n",
            "spark-3.0.1-bin-hadoop3.2/examples/src/main/java/org/apache/spark/examples/mllib/JavaPowerIterationClusteringExample.java\n",
            "spark-3.0.1-bin-hadoop3.2/examples/src/main/java/org/apache/spark/examples/JavaLogQuery.java\n",
            "spark-3.0.1-bin-hadoop3.2/examples/src/main/java/org/apache/spark/examples/streaming/\n",
            "spark-3.0.1-bin-hadoop3.2/examples/src/main/java/org/apache/spark/examples/streaming/JavaDirectKafkaWordCount.java\n",
            "spark-3.0.1-bin-hadoop3.2/examples/src/main/java/org/apache/spark/examples/streaming/JavaRecoverableNetworkWordCount.java\n",
            "spark-3.0.1-bin-hadoop3.2/examples/src/main/java/org/apache/spark/examples/streaming/JavaQueueStream.java\n",
            "spark-3.0.1-bin-hadoop3.2/examples/src/main/java/org/apache/spark/examples/streaming/JavaRecord.java\n",
            "spark-3.0.1-bin-hadoop3.2/examples/src/main/java/org/apache/spark/examples/streaming/JavaCustomReceiver.java\n",
            "spark-3.0.1-bin-hadoop3.2/examples/src/main/java/org/apache/spark/examples/streaming/JavaNetworkWordCount.java\n",
            "spark-3.0.1-bin-hadoop3.2/examples/src/main/java/org/apache/spark/examples/streaming/JavaSqlNetworkWordCount.java\n",
            "spark-3.0.1-bin-hadoop3.2/examples/src/main/java/org/apache/spark/examples/streaming/JavaDirectKerberizedKafkaWordCount.java\n",
            "spark-3.0.1-bin-hadoop3.2/examples/src/main/java/org/apache/spark/examples/streaming/JavaStatefulNetworkWordCount.java\n",
            "spark-3.0.1-bin-hadoop3.2/examples/src/main/java/org/apache/spark/examples/JavaStatusTrackerDemo.java\n",
            "spark-3.0.1-bin-hadoop3.2/examples/src/main/java/org/apache/spark/examples/sql/\n",
            "spark-3.0.1-bin-hadoop3.2/examples/src/main/java/org/apache/spark/examples/sql/streaming/\n",
            "spark-3.0.1-bin-hadoop3.2/examples/src/main/java/org/apache/spark/examples/sql/streaming/JavaStructuredNetworkWordCount.java\n",
            "spark-3.0.1-bin-hadoop3.2/examples/src/main/java/org/apache/spark/examples/sql/streaming/JavaStructuredSessionization.java\n",
            "spark-3.0.1-bin-hadoop3.2/examples/src/main/java/org/apache/spark/examples/sql/streaming/JavaStructuredKerberizedKafkaWordCount.java\n",
            "spark-3.0.1-bin-hadoop3.2/examples/src/main/java/org/apache/spark/examples/sql/streaming/JavaStructuredNetworkWordCountWindowed.java\n",
            "spark-3.0.1-bin-hadoop3.2/examples/src/main/java/org/apache/spark/examples/sql/streaming/JavaStructuredKafkaWordCount.java\n",
            "spark-3.0.1-bin-hadoop3.2/examples/src/main/java/org/apache/spark/examples/sql/hive/\n",
            "spark-3.0.1-bin-hadoop3.2/examples/src/main/java/org/apache/spark/examples/sql/hive/JavaSparkHiveExample.java\n",
            "spark-3.0.1-bin-hadoop3.2/examples/src/main/java/org/apache/spark/examples/sql/JavaSparkSQLExample.java\n",
            "spark-3.0.1-bin-hadoop3.2/examples/src/main/java/org/apache/spark/examples/sql/JavaSQLDataSourceExample.java\n",
            "spark-3.0.1-bin-hadoop3.2/examples/src/main/java/org/apache/spark/examples/sql/JavaUserDefinedScalar.java\n",
            "spark-3.0.1-bin-hadoop3.2/examples/src/main/java/org/apache/spark/examples/sql/JavaUserDefinedUntypedAggregation.java\n",
            "spark-3.0.1-bin-hadoop3.2/examples/src/main/java/org/apache/spark/examples/sql/JavaUserDefinedTypedAggregation.java\n",
            "spark-3.0.1-bin-hadoop3.2/examples/src/main/java/org/apache/spark/examples/JavaTC.java\n",
            "spark-3.0.1-bin-hadoop3.2/examples/src/main/java/org/apache/spark/examples/JavaWordCount.java\n",
            "spark-3.0.1-bin-hadoop3.2/examples/src/main/java/org/apache/spark/examples/JavaPageRank.java\n",
            "spark-3.0.1-bin-hadoop3.2/examples/src/main/java/org/apache/spark/examples/JavaSparkPi.java\n",
            "spark-3.0.1-bin-hadoop3.2/examples/src/main/r/\n",
            "spark-3.0.1-bin-hadoop3.2/examples/src/main/r/ml/\n",
            "spark-3.0.1-bin-hadoop3.2/examples/src/main/r/ml/lda.R\n",
            "spark-3.0.1-bin-hadoop3.2/examples/src/main/r/ml/logit.R\n",
            "spark-3.0.1-bin-hadoop3.2/examples/src/main/r/ml/gaussianMixture.R\n",
            "spark-3.0.1-bin-hadoop3.2/examples/src/main/r/ml/survreg.R\n",
            "spark-3.0.1-bin-hadoop3.2/examples/src/main/r/ml/glm.R\n",
            "spark-3.0.1-bin-hadoop3.2/examples/src/main/r/ml/powerIterationClustering.R\n",
            "spark-3.0.1-bin-hadoop3.2/examples/src/main/r/ml/als.R\n",
            "spark-3.0.1-bin-hadoop3.2/examples/src/main/r/ml/ml.R\n",
            "spark-3.0.1-bin-hadoop3.2/examples/src/main/r/ml/fpm.R\n",
            "spark-3.0.1-bin-hadoop3.2/examples/src/main/r/ml/bisectingKmeans.R\n",
            "spark-3.0.1-bin-hadoop3.2/examples/src/main/r/ml/isoreg.R\n",
            "spark-3.0.1-bin-hadoop3.2/examples/src/main/r/ml/mlp.R\n",
            "spark-3.0.1-bin-hadoop3.2/examples/src/main/r/ml/kmeans.R\n",
            "spark-3.0.1-bin-hadoop3.2/examples/src/main/r/ml/randomForest.R\n",
            "spark-3.0.1-bin-hadoop3.2/examples/src/main/r/ml/gbt.R\n",
            "spark-3.0.1-bin-hadoop3.2/examples/src/main/r/ml/kstest.R\n",
            "spark-3.0.1-bin-hadoop3.2/examples/src/main/r/ml/svmLinear.R\n",
            "spark-3.0.1-bin-hadoop3.2/examples/src/main/r/ml/decisionTree.R\n",
            "spark-3.0.1-bin-hadoop3.2/examples/src/main/r/ml/naiveBayes.R\n",
            "spark-3.0.1-bin-hadoop3.2/examples/src/main/r/ml/prefixSpan.R\n",
            "spark-3.0.1-bin-hadoop3.2/examples/src/main/r/data-manipulation.R\n",
            "spark-3.0.1-bin-hadoop3.2/examples/src/main/r/streaming/\n",
            "spark-3.0.1-bin-hadoop3.2/examples/src/main/r/streaming/structured_network_wordcount.R\n",
            "spark-3.0.1-bin-hadoop3.2/examples/src/main/r/RSparkSQLExample.R\n",
            "spark-3.0.1-bin-hadoop3.2/examples/src/main/r/dataframe.R\n",
            "spark-3.0.1-bin-hadoop3.2/examples/src/main/python/\n",
            "spark-3.0.1-bin-hadoop3.2/examples/src/main/python/ml/\n",
            "spark-3.0.1-bin-hadoop3.2/examples/src/main/python/ml/bisecting_k_means_example.py\n",
            "spark-3.0.1-bin-hadoop3.2/examples/src/main/python/ml/stopwords_remover_example.py\n",
            "spark-3.0.1-bin-hadoop3.2/examples/src/main/python/ml/chisq_selector_example.py\n",
            "spark-3.0.1-bin-hadoop3.2/examples/src/main/python/ml/cross_validator.py\n",
            "spark-3.0.1-bin-hadoop3.2/examples/src/main/python/ml/vector_indexer_example.py\n",
            "spark-3.0.1-bin-hadoop3.2/examples/src/main/python/ml/binarizer_example.py\n",
            "spark-3.0.1-bin-hadoop3.2/examples/src/main/python/ml/tokenizer_example.py\n",
            "spark-3.0.1-bin-hadoop3.2/examples/src/main/python/ml/quantile_discretizer_example.py\n",
            "spark-3.0.1-bin-hadoop3.2/examples/src/main/python/ml/vector_size_hint_example.py\n",
            "spark-3.0.1-bin-hadoop3.2/examples/src/main/python/ml/elementwise_product_example.py\n",
            "spark-3.0.1-bin-hadoop3.2/examples/src/main/python/ml/tf_idf_example.py\n",
            "spark-3.0.1-bin-hadoop3.2/examples/src/main/python/ml/pca_example.py\n",
            "spark-3.0.1-bin-hadoop3.2/examples/src/main/python/ml/chi_square_test_example.py\n",
            "spark-3.0.1-bin-hadoop3.2/examples/src/main/python/ml/correlation_example.py\n",
            "spark-3.0.1-bin-hadoop3.2/examples/src/main/python/ml/rformula_example.py\n",
            "spark-3.0.1-bin-hadoop3.2/examples/src/main/python/ml/fpgrowth_example.py\n",
            "spark-3.0.1-bin-hadoop3.2/examples/src/main/python/ml/dataframe_example.py\n",
            "spark-3.0.1-bin-hadoop3.2/examples/src/main/python/ml/train_validation_split.py\n",
            "spark-3.0.1-bin-hadoop3.2/examples/src/main/python/ml/fm_classifier_example.py\n",
            "spark-3.0.1-bin-hadoop3.2/examples/src/main/python/ml/index_to_string_example.py\n",
            "spark-3.0.1-bin-hadoop3.2/examples/src/main/python/ml/gradient_boosted_tree_regressor_example.py\n",
            "spark-3.0.1-bin-hadoop3.2/examples/src/main/python/ml/logistic_regression_summary_example.py\n",
            "spark-3.0.1-bin-hadoop3.2/examples/src/main/python/ml/feature_hasher_example.py\n",
            "spark-3.0.1-bin-hadoop3.2/examples/src/main/python/ml/vector_slicer_example.py\n",
            "spark-3.0.1-bin-hadoop3.2/examples/src/main/python/ml/kmeans_example.py\n",
            "spark-3.0.1-bin-hadoop3.2/examples/src/main/python/ml/robust_scaler_example.py\n",
            "spark-3.0.1-bin-hadoop3.2/examples/src/main/python/ml/als_example.py\n",
            "spark-3.0.1-bin-hadoop3.2/examples/src/main/python/ml/decision_tree_classification_example.py\n",
            "spark-3.0.1-bin-hadoop3.2/examples/src/main/python/ml/generalized_linear_regression_example.py\n",
            "spark-3.0.1-bin-hadoop3.2/examples/src/main/python/ml/fm_regressor_example.py\n",
            "spark-3.0.1-bin-hadoop3.2/examples/src/main/python/ml/multiclass_logistic_regression_with_elastic_net.py\n",
            "spark-3.0.1-bin-hadoop3.2/examples/src/main/python/ml/imputer_example.py\n",
            "spark-3.0.1-bin-hadoop3.2/examples/src/main/python/ml/interaction_example.py\n",
            "spark-3.0.1-bin-hadoop3.2/examples/src/main/python/ml/naive_bayes_example.py\n",
            "spark-3.0.1-bin-hadoop3.2/examples/src/main/python/ml/string_indexer_example.py\n",
            "spark-3.0.1-bin-hadoop3.2/examples/src/main/python/ml/gradient_boosted_tree_classifier_example.py\n",
            "spark-3.0.1-bin-hadoop3.2/examples/src/main/python/ml/sql_transformer.py\n",
            "spark-3.0.1-bin-hadoop3.2/examples/src/main/python/ml/logistic_regression_with_elastic_net.py\n",
            "spark-3.0.1-bin-hadoop3.2/examples/src/main/python/ml/decision_tree_regression_example.py\n",
            "spark-3.0.1-bin-hadoop3.2/examples/src/main/python/ml/lda_example.py\n",
            "spark-3.0.1-bin-hadoop3.2/examples/src/main/python/ml/min_hash_lsh_example.py\n",
            "spark-3.0.1-bin-hadoop3.2/examples/src/main/python/ml/estimator_transformer_param_example.py\n",
            "spark-3.0.1-bin-hadoop3.2/examples/src/main/python/ml/gaussian_mixture_example.py\n",
            "spark-3.0.1-bin-hadoop3.2/examples/src/main/python/ml/prefixspan_example.py\n",
            "spark-3.0.1-bin-hadoop3.2/examples/src/main/python/ml/summarizer_example.py\n",
            "spark-3.0.1-bin-hadoop3.2/examples/src/main/python/ml/max_abs_scaler_example.py\n",
            "spark-3.0.1-bin-hadoop3.2/examples/src/main/python/ml/aft_survival_regression.py\n",
            "spark-3.0.1-bin-hadoop3.2/examples/src/main/python/ml/onehot_encoder_example.py\n",
            "spark-3.0.1-bin-hadoop3.2/examples/src/main/python/ml/normalizer_example.py\n",
            "spark-3.0.1-bin-hadoop3.2/examples/src/main/python/ml/random_forest_regressor_example.py\n",
            "spark-3.0.1-bin-hadoop3.2/examples/src/main/python/ml/random_forest_classifier_example.py\n",
            "spark-3.0.1-bin-hadoop3.2/examples/src/main/python/ml/vector_assembler_example.py\n",
            "spark-3.0.1-bin-hadoop3.2/examples/src/main/python/ml/power_iteration_clustering_example.py\n",
            "spark-3.0.1-bin-hadoop3.2/examples/src/main/python/ml/linear_regression_with_elastic_net.py\n",
            "spark-3.0.1-bin-hadoop3.2/examples/src/main/python/ml/count_vectorizer_example.py\n",
            "spark-3.0.1-bin-hadoop3.2/examples/src/main/python/ml/standard_scaler_example.py\n",
            "spark-3.0.1-bin-hadoop3.2/examples/src/main/python/ml/bucketizer_example.py\n",
            "spark-3.0.1-bin-hadoop3.2/examples/src/main/python/ml/multilayer_perceptron_classification.py\n",
            "spark-3.0.1-bin-hadoop3.2/examples/src/main/python/ml/dct_example.py\n",
            "spark-3.0.1-bin-hadoop3.2/examples/src/main/python/ml/linearsvc.py\n",
            "spark-3.0.1-bin-hadoop3.2/examples/src/main/python/ml/polynomial_expansion_example.py\n",
            "spark-3.0.1-bin-hadoop3.2/examples/src/main/python/ml/isotonic_regression_example.py\n",
            "spark-3.0.1-bin-hadoop3.2/examples/src/main/python/ml/n_gram_example.py\n",
            "spark-3.0.1-bin-hadoop3.2/examples/src/main/python/ml/word2vec_example.py\n",
            "spark-3.0.1-bin-hadoop3.2/examples/src/main/python/ml/min_max_scaler_example.py\n",
            "spark-3.0.1-bin-hadoop3.2/examples/src/main/python/ml/bucketed_random_projection_lsh_example.py\n",
            "spark-3.0.1-bin-hadoop3.2/examples/src/main/python/ml/one_vs_rest_example.py\n",
            "spark-3.0.1-bin-hadoop3.2/examples/src/main/python/ml/pipeline_example.py\n",
            "spark-3.0.1-bin-hadoop3.2/examples/src/main/python/mllib/\n",
            "spark-3.0.1-bin-hadoop3.2/examples/src/main/python/mllib/bisecting_k_means_example.py\n",
            "spark-3.0.1-bin-hadoop3.2/examples/src/main/python/mllib/multi_class_metrics_example.py\n",
            "spark-3.0.1-bin-hadoop3.2/examples/src/main/python/mllib/regression_metrics_example.py\n",
            "spark-3.0.1-bin-hadoop3.2/examples/src/main/python/mllib/correlations.py\n",
            "spark-3.0.1-bin-hadoop3.2/examples/src/main/python/mllib/elementwise_product_example.py\n",
            "spark-3.0.1-bin-hadoop3.2/examples/src/main/python/mllib/svd_example.py\n",
            "spark-3.0.1-bin-hadoop3.2/examples/src/main/python/mllib/tf_idf_example.py\n",
            "spark-3.0.1-bin-hadoop3.2/examples/src/main/python/mllib/kernel_density_estimation_example.py\n",
            "spark-3.0.1-bin-hadoop3.2/examples/src/main/python/mllib/pca_rowmatrix_example.py\n",
            "spark-3.0.1-bin-hadoop3.2/examples/src/main/python/mllib/ranking_metrics_example.py\n",
            "spark-3.0.1-bin-hadoop3.2/examples/src/main/python/mllib/gradient_boosting_regression_example.py\n",
            "spark-3.0.1-bin-hadoop3.2/examples/src/main/python/mllib/fpgrowth_example.py\n",
            "spark-3.0.1-bin-hadoop3.2/examples/src/main/python/mllib/random_rdd_generation.py\n",
            "spark-3.0.1-bin-hadoop3.2/examples/src/main/python/mllib/word2vec.py\n",
            "spark-3.0.1-bin-hadoop3.2/examples/src/main/python/mllib/linear_regression_with_sgd_example.py\n",
            "spark-3.0.1-bin-hadoop3.2/examples/src/main/python/mllib/logistic_regression_with_lbfgs_example.py\n",
            "spark-3.0.1-bin-hadoop3.2/examples/src/main/python/mllib/kmeans.py\n",
            "spark-3.0.1-bin-hadoop3.2/examples/src/main/python/mllib/streaming_k_means_example.py\n",
            "spark-3.0.1-bin-hadoop3.2/examples/src/main/python/mllib/decision_tree_classification_example.py\n",
            "spark-3.0.1-bin-hadoop3.2/examples/src/main/python/mllib/correlations_example.py\n",
            "spark-3.0.1-bin-hadoop3.2/examples/src/main/python/mllib/naive_bayes_example.py\n",
            "spark-3.0.1-bin-hadoop3.2/examples/src/main/python/mllib/decision_tree_regression_example.py\n",
            "spark-3.0.1-bin-hadoop3.2/examples/src/main/python/mllib/sampled_rdds.py\n",
            "spark-3.0.1-bin-hadoop3.2/examples/src/main/python/mllib/gaussian_mixture_example.py\n",
            "spark-3.0.1-bin-hadoop3.2/examples/src/main/python/mllib/hypothesis_testing_example.py\n",
            "spark-3.0.1-bin-hadoop3.2/examples/src/main/python/mllib/streaming_linear_regression_example.py\n",
            "spark-3.0.1-bin-hadoop3.2/examples/src/main/python/mllib/stratified_sampling_example.py\n",
            "spark-3.0.1-bin-hadoop3.2/examples/src/main/python/mllib/gaussian_mixture_model.py\n",
            "spark-3.0.1-bin-hadoop3.2/examples/src/main/python/mllib/normalizer_example.py\n",
            "spark-3.0.1-bin-hadoop3.2/examples/src/main/python/mllib/summary_statistics_example.py\n",
            "spark-3.0.1-bin-hadoop3.2/examples/src/main/python/mllib/svm_with_sgd_example.py\n",
            "spark-3.0.1-bin-hadoop3.2/examples/src/main/python/mllib/logistic_regression.py\n",
            "spark-3.0.1-bin-hadoop3.2/examples/src/main/python/mllib/power_iteration_clustering_example.py\n",
            "spark-3.0.1-bin-hadoop3.2/examples/src/main/python/mllib/standard_scaler_example.py\n",
            "spark-3.0.1-bin-hadoop3.2/examples/src/main/python/mllib/random_forest_classification_example.py\n",
            "spark-3.0.1-bin-hadoop3.2/examples/src/main/python/mllib/gradient_boosting_classification_example.py\n",
            "spark-3.0.1-bin-hadoop3.2/examples/src/main/python/mllib/random_forest_regression_example.py\n",
            "spark-3.0.1-bin-hadoop3.2/examples/src/main/python/mllib/isotonic_regression_example.py\n",
            "spark-3.0.1-bin-hadoop3.2/examples/src/main/python/mllib/k_means_example.py\n",
            "spark-3.0.1-bin-hadoop3.2/examples/src/main/python/mllib/word2vec_example.py\n",
            "spark-3.0.1-bin-hadoop3.2/examples/src/main/python/mllib/binary_classification_metrics_example.py\n",
            "spark-3.0.1-bin-hadoop3.2/examples/src/main/python/mllib/multi_label_metrics_example.py\n",
            "spark-3.0.1-bin-hadoop3.2/examples/src/main/python/mllib/hypothesis_testing_kolmogorov_smirnov_test_example.py\n",
            "spark-3.0.1-bin-hadoop3.2/examples/src/main/python/mllib/latent_dirichlet_allocation_example.py\n",
            "spark-3.0.1-bin-hadoop3.2/examples/src/main/python/mllib/recommendation_example.py\n",
            "spark-3.0.1-bin-hadoop3.2/examples/src/main/python/transitive_closure.py\n",
            "spark-3.0.1-bin-hadoop3.2/examples/src/main/python/parquet_inputformat.py\n",
            "spark-3.0.1-bin-hadoop3.2/examples/src/main/python/streaming/\n",
            "spark-3.0.1-bin-hadoop3.2/examples/src/main/python/streaming/sql_network_wordcount.py\n",
            "spark-3.0.1-bin-hadoop3.2/examples/src/main/python/streaming/queue_stream.py\n",
            "spark-3.0.1-bin-hadoop3.2/examples/src/main/python/streaming/recoverable_network_wordcount.py\n",
            "spark-3.0.1-bin-hadoop3.2/examples/src/main/python/streaming/network_wordjoinsentiments.py\n",
            "spark-3.0.1-bin-hadoop3.2/examples/src/main/python/streaming/network_wordcount.py\n",
            "spark-3.0.1-bin-hadoop3.2/examples/src/main/python/streaming/hdfs_wordcount.py\n",
            "spark-3.0.1-bin-hadoop3.2/examples/src/main/python/streaming/stateful_network_wordcount.py\n",
            "spark-3.0.1-bin-hadoop3.2/examples/src/main/python/kmeans.py\n",
            "spark-3.0.1-bin-hadoop3.2/examples/src/main/python/als.py\n",
            "spark-3.0.1-bin-hadoop3.2/examples/src/main/python/sql/\n",
            "spark-3.0.1-bin-hadoop3.2/examples/src/main/python/sql/streaming/\n",
            "spark-3.0.1-bin-hadoop3.2/examples/src/main/python/sql/streaming/structured_kafka_wordcount.py\n",
            "spark-3.0.1-bin-hadoop3.2/examples/src/main/python/sql/streaming/structured_network_wordcount_windowed.py\n",
            "spark-3.0.1-bin-hadoop3.2/examples/src/main/python/sql/streaming/structured_network_wordcount.py\n",
            "spark-3.0.1-bin-hadoop3.2/examples/src/main/python/sql/basic.py\n",
            "spark-3.0.1-bin-hadoop3.2/examples/src/main/python/sql/datasource.py\n",
            "spark-3.0.1-bin-hadoop3.2/examples/src/main/python/sql/hive.py\n",
            "spark-3.0.1-bin-hadoop3.2/examples/src/main/python/sql/arrow.py\n",
            "spark-3.0.1-bin-hadoop3.2/examples/src/main/python/pagerank.py\n",
            "spark-3.0.1-bin-hadoop3.2/examples/src/main/python/logistic_regression.py\n",
            "spark-3.0.1-bin-hadoop3.2/examples/src/main/python/wordcount.py\n",
            "spark-3.0.1-bin-hadoop3.2/examples/src/main/python/status_api_demo.py\n",
            "spark-3.0.1-bin-hadoop3.2/examples/src/main/python/avro_inputformat.py\n",
            "spark-3.0.1-bin-hadoop3.2/examples/src/main/python/pi.py\n",
            "spark-3.0.1-bin-hadoop3.2/examples/src/main/python/sort.py\n",
            "spark-3.0.1-bin-hadoop3.2/examples/jars/\n",
            "spark-3.0.1-bin-hadoop3.2/examples/jars/spark-examples_2.12-3.0.1.jar\n",
            "spark-3.0.1-bin-hadoop3.2/examples/jars/scopt_2.12-3.7.1.jar\n",
            "spark-3.0.1-bin-hadoop3.2/data/\n",
            "spark-3.0.1-bin-hadoop3.2/data/mllib/\n",
            "spark-3.0.1-bin-hadoop3.2/data/mllib/ridge-data/\n",
            "spark-3.0.1-bin-hadoop3.2/data/mllib/ridge-data/lpsa.data\n",
            "spark-3.0.1-bin-hadoop3.2/data/mllib/streaming_kmeans_data_test.txt\n",
            "spark-3.0.1-bin-hadoop3.2/data/mllib/sample_multiclass_classification_data.txt\n",
            "spark-3.0.1-bin-hadoop3.2/data/mllib/sample_isotonic_regression_libsvm_data.txt\n",
            "spark-3.0.1-bin-hadoop3.2/data/mllib/sample_svm_data.txt\n",
            "spark-3.0.1-bin-hadoop3.2/data/mllib/iris_libsvm.txt\n",
            "spark-3.0.1-bin-hadoop3.2/data/mllib/sample_lda_data.txt\n",
            "spark-3.0.1-bin-hadoop3.2/data/mllib/sample_lda_libsvm_data.txt\n",
            "spark-3.0.1-bin-hadoop3.2/data/mllib/sample_movielens_data.txt\n",
            "spark-3.0.1-bin-hadoop3.2/data/mllib/sample_libsvm_data.txt\n",
            "spark-3.0.1-bin-hadoop3.2/data/mllib/sample_binary_classification_data.txt\n",
            "spark-3.0.1-bin-hadoop3.2/data/mllib/sample_fpgrowth.txt\n",
            "spark-3.0.1-bin-hadoop3.2/data/mllib/images/\n",
            "spark-3.0.1-bin-hadoop3.2/data/mllib/images/partitioned/\n",
            "spark-3.0.1-bin-hadoop3.2/data/mllib/images/partitioned/cls=multichannel/\n",
            "spark-3.0.1-bin-hadoop3.2/data/mllib/images/partitioned/cls=multichannel/date=2018-01/\n",
            "spark-3.0.1-bin-hadoop3.2/data/mllib/images/partitioned/cls=multichannel/date=2018-01/BGRA_alpha_60.png\n",
            "spark-3.0.1-bin-hadoop3.2/data/mllib/images/partitioned/cls=multichannel/date=2018-01/BGRA.png\n",
            "spark-3.0.1-bin-hadoop3.2/data/mllib/images/partitioned/cls=multichannel/date=2018-02/\n",
            "spark-3.0.1-bin-hadoop3.2/data/mllib/images/partitioned/cls=multichannel/date=2018-02/chr30.4.184.jpg\n",
            "spark-3.0.1-bin-hadoop3.2/data/mllib/images/partitioned/cls=multichannel/date=2018-02/grayscale.jpg\n",
            "spark-3.0.1-bin-hadoop3.2/data/mllib/images/partitioned/cls=kittens/\n",
            "spark-3.0.1-bin-hadoop3.2/data/mllib/images/partitioned/cls=kittens/date=2018-01/\n",
            "spark-3.0.1-bin-hadoop3.2/data/mllib/images/partitioned/cls=kittens/date=2018-01/not-image.txt\n",
            "spark-3.0.1-bin-hadoop3.2/data/mllib/images/partitioned/cls=kittens/date=2018-01/29.5.a_b_EGDP022204.jpg\n",
            "spark-3.0.1-bin-hadoop3.2/data/mllib/images/partitioned/cls=kittens/date=2018-02/\n",
            "spark-3.0.1-bin-hadoop3.2/data/mllib/images/partitioned/cls=kittens/date=2018-02/DP153539.jpg\n",
            "spark-3.0.1-bin-hadoop3.2/data/mllib/images/partitioned/cls=kittens/date=2018-02/54893.jpg\n",
            "spark-3.0.1-bin-hadoop3.2/data/mllib/images/partitioned/cls=kittens/date=2018-02/DP802813.jpg\n",
            "spark-3.0.1-bin-hadoop3.2/data/mllib/images/origin/\n",
            "spark-3.0.1-bin-hadoop3.2/data/mllib/images/origin/multi-channel/\n",
            "spark-3.0.1-bin-hadoop3.2/data/mllib/images/origin/multi-channel/BGRA_alpha_60.png\n",
            "spark-3.0.1-bin-hadoop3.2/data/mllib/images/origin/multi-channel/chr30.4.184.jpg\n",
            "spark-3.0.1-bin-hadoop3.2/data/mllib/images/origin/multi-channel/BGRA.png\n",
            "spark-3.0.1-bin-hadoop3.2/data/mllib/images/origin/multi-channel/grayscale.jpg\n",
            "spark-3.0.1-bin-hadoop3.2/data/mllib/images/origin/license.txt\n",
            "spark-3.0.1-bin-hadoop3.2/data/mllib/images/origin/kittens/\n",
            "spark-3.0.1-bin-hadoop3.2/data/mllib/images/origin/kittens/not-image.txt\n",
            "spark-3.0.1-bin-hadoop3.2/data/mllib/images/origin/kittens/DP153539.jpg\n",
            "spark-3.0.1-bin-hadoop3.2/data/mllib/images/origin/kittens/54893.jpg\n",
            "spark-3.0.1-bin-hadoop3.2/data/mllib/images/origin/kittens/29.5.a_b_EGDP022204.jpg\n",
            "spark-3.0.1-bin-hadoop3.2/data/mllib/images/origin/kittens/DP802813.jpg\n",
            "spark-3.0.1-bin-hadoop3.2/data/mllib/images/license.txt\n",
            "spark-3.0.1-bin-hadoop3.2/data/mllib/gmm_data.txt\n",
            "spark-3.0.1-bin-hadoop3.2/data/mllib/sample_linear_regression_data.txt\n",
            "spark-3.0.1-bin-hadoop3.2/data/mllib/kmeans_data.txt\n",
            "spark-3.0.1-bin-hadoop3.2/data/mllib/pagerank_data.txt\n",
            "spark-3.0.1-bin-hadoop3.2/data/mllib/pic_data.txt\n",
            "spark-3.0.1-bin-hadoop3.2/data/mllib/sample_kmeans_data.txt\n",
            "spark-3.0.1-bin-hadoop3.2/data/mllib/als/\n",
            "spark-3.0.1-bin-hadoop3.2/data/mllib/als/sample_movielens_ratings.txt\n",
            "spark-3.0.1-bin-hadoop3.2/data/mllib/als/test.data\n",
            "spark-3.0.1-bin-hadoop3.2/data/streaming/\n",
            "spark-3.0.1-bin-hadoop3.2/data/streaming/AFINN-111.txt\n",
            "spark-3.0.1-bin-hadoop3.2/data/graphx/\n",
            "spark-3.0.1-bin-hadoop3.2/data/graphx/followers.txt\n",
            "spark-3.0.1-bin-hadoop3.2/data/graphx/users.txt\n",
            "spark-3.0.1-bin-hadoop3.2/yarn/\n",
            "spark-3.0.1-bin-hadoop3.2/yarn/spark-3.0.1-yarn-shuffle.jar\n",
            "spark-3.0.1-bin-hadoop3.2/bin/\n",
            "spark-3.0.1-bin-hadoop3.2/bin/spark-class.cmd\n",
            "spark-3.0.1-bin-hadoop3.2/bin/run-example\n",
            "spark-3.0.1-bin-hadoop3.2/bin/run-example.cmd\n",
            "spark-3.0.1-bin-hadoop3.2/bin/spark-class\n",
            "spark-3.0.1-bin-hadoop3.2/bin/spark-class2.cmd\n",
            "spark-3.0.1-bin-hadoop3.2/bin/find-spark-home\n",
            "spark-3.0.1-bin-hadoop3.2/bin/spark-submit\n",
            "spark-3.0.1-bin-hadoop3.2/bin/pyspark\n",
            "spark-3.0.1-bin-hadoop3.2/bin/find-spark-home.cmd\n",
            "spark-3.0.1-bin-hadoop3.2/bin/docker-image-tool.sh\n",
            "spark-3.0.1-bin-hadoop3.2/bin/spark-shell.cmd\n",
            "spark-3.0.1-bin-hadoop3.2/bin/spark-sql.cmd\n",
            "spark-3.0.1-bin-hadoop3.2/bin/load-spark-env.cmd\n",
            "spark-3.0.1-bin-hadoop3.2/bin/sparkR2.cmd\n",
            "spark-3.0.1-bin-hadoop3.2/bin/beeline.cmd\n",
            "spark-3.0.1-bin-hadoop3.2/bin/pyspark.cmd\n",
            "spark-3.0.1-bin-hadoop3.2/bin/spark-shell2.cmd\n",
            "spark-3.0.1-bin-hadoop3.2/bin/spark-sql2.cmd\n",
            "spark-3.0.1-bin-hadoop3.2/bin/sparkR\n",
            "spark-3.0.1-bin-hadoop3.2/bin/spark-sql\n",
            "spark-3.0.1-bin-hadoop3.2/bin/spark-shell\n",
            "spark-3.0.1-bin-hadoop3.2/bin/spark-submit.cmd\n",
            "spark-3.0.1-bin-hadoop3.2/bin/load-spark-env.sh\n",
            "spark-3.0.1-bin-hadoop3.2/bin/beeline\n",
            "spark-3.0.1-bin-hadoop3.2/bin/sparkR.cmd\n",
            "spark-3.0.1-bin-hadoop3.2/bin/pyspark2.cmd\n",
            "spark-3.0.1-bin-hadoop3.2/bin/spark-submit2.cmd\n",
            "spark-3.0.1-bin-hadoop3.2/sbin/\n",
            "spark-3.0.1-bin-hadoop3.2/sbin/stop-thriftserver.sh\n",
            "spark-3.0.1-bin-hadoop3.2/sbin/stop-slaves.sh\n",
            "spark-3.0.1-bin-hadoop3.2/sbin/spark-config.sh\n",
            "spark-3.0.1-bin-hadoop3.2/sbin/start-mesos-dispatcher.sh\n",
            "spark-3.0.1-bin-hadoop3.2/sbin/stop-mesos-dispatcher.sh\n",
            "spark-3.0.1-bin-hadoop3.2/sbin/stop-master.sh\n",
            "spark-3.0.1-bin-hadoop3.2/sbin/start-thriftserver.sh\n",
            "spark-3.0.1-bin-hadoop3.2/sbin/spark-daemons.sh\n",
            "spark-3.0.1-bin-hadoop3.2/sbin/stop-all.sh\n",
            "spark-3.0.1-bin-hadoop3.2/sbin/start-master.sh\n",
            "spark-3.0.1-bin-hadoop3.2/sbin/start-slave.sh\n",
            "spark-3.0.1-bin-hadoop3.2/sbin/stop-slave.sh\n",
            "spark-3.0.1-bin-hadoop3.2/sbin/start-slaves.sh\n",
            "spark-3.0.1-bin-hadoop3.2/sbin/start-history-server.sh\n",
            "spark-3.0.1-bin-hadoop3.2/sbin/stop-mesos-shuffle-service.sh\n",
            "spark-3.0.1-bin-hadoop3.2/sbin/stop-history-server.sh\n",
            "spark-3.0.1-bin-hadoop3.2/sbin/start-all.sh\n",
            "spark-3.0.1-bin-hadoop3.2/sbin/start-mesos-shuffle-service.sh\n",
            "spark-3.0.1-bin-hadoop3.2/sbin/slaves.sh\n",
            "spark-3.0.1-bin-hadoop3.2/sbin/spark-daemon.sh\n",
            "spark-3.0.1-bin-hadoop3.2/README.md\n",
            "spark-3.0.1-bin-hadoop3.2/licenses/\n",
            "spark-3.0.1-bin-hadoop3.2/licenses/LICENSE-zstd.txt\n",
            "spark-3.0.1-bin-hadoop3.2/licenses/LICENSE-scala.txt\n",
            "spark-3.0.1-bin-hadoop3.2/licenses/LICENSE-JTransforms.txt\n",
            "spark-3.0.1-bin-hadoop3.2/licenses/LICENSE-pyrolite.txt\n",
            "spark-3.0.1-bin-hadoop3.2/licenses/LICENSE-mustache.txt\n",
            "spark-3.0.1-bin-hadoop3.2/licenses/LICENSE-scopt.txt\n",
            "spark-3.0.1-bin-hadoop3.2/licenses/LICENSE-paranamer.txt\n",
            "spark-3.0.1-bin-hadoop3.2/licenses/LICENSE-istack-commons-runtime.txt\n",
            "spark-3.0.1-bin-hadoop3.2/licenses/LICENSE-vis-timeline.txt\n",
            "spark-3.0.1-bin-hadoop3.2/licenses/LICENSE-bootstrap.txt\n",
            "spark-3.0.1-bin-hadoop3.2/licenses/LICENSE-javax-transaction-transaction-api.txt\n",
            "spark-3.0.1-bin-hadoop3.2/licenses/LICENSE-arpack.txt\n",
            "spark-3.0.1-bin-hadoop3.2/licenses/LICENSE-xmlenc.txt\n",
            "spark-3.0.1-bin-hadoop3.2/licenses/LICENSE-zstd-jni.txt\n",
            "spark-3.0.1-bin-hadoop3.2/licenses/LICENSE-spire.txt\n",
            "spark-3.0.1-bin-hadoop3.2/licenses/LICENSE-cloudpickle.txt\n",
            "spark-3.0.1-bin-hadoop3.2/licenses/LICENSE-automaton.txt\n",
            "spark-3.0.1-bin-hadoop3.2/licenses/LICENSE-sbt-launch-lib.txt\n",
            "spark-3.0.1-bin-hadoop3.2/licenses/LICENSE-slf4j.txt\n",
            "spark-3.0.1-bin-hadoop3.2/licenses/LICENSE-jquery.txt\n",
            "spark-3.0.1-bin-hadoop3.2/licenses/LICENSE-jakarta.activation-api.txt\n",
            "spark-3.0.1-bin-hadoop3.2/licenses/LICENSE-matchMedia-polyfill.txt\n",
            "spark-3.0.1-bin-hadoop3.2/licenses/LICENSE-kryo.txt\n",
            "spark-3.0.1-bin-hadoop3.2/licenses/LICENSE-JLargeArrays.txt\n",
            "spark-3.0.1-bin-hadoop3.2/licenses/LICENSE-netlib.txt\n",
            "spark-3.0.1-bin-hadoop3.2/licenses/LICENSE-jakarta.xml.bind-api.txt\n",
            "spark-3.0.1-bin-hadoop3.2/licenses/LICENSE-graphlib-dot.txt\n",
            "spark-3.0.1-bin-hadoop3.2/licenses/LICENSE-jakarta-ws-rs-api\n",
            "spark-3.0.1-bin-hadoop3.2/licenses/LICENSE-f2j.txt\n",
            "spark-3.0.1-bin-hadoop3.2/licenses/LICENSE-d3.min.js.txt\n",
            "spark-3.0.1-bin-hadoop3.2/licenses/LICENSE-javolution.txt\n",
            "spark-3.0.1-bin-hadoop3.2/licenses/LICENSE-modernizr.txt\n",
            "spark-3.0.1-bin-hadoop3.2/licenses/LICENSE-join.txt\n",
            "spark-3.0.1-bin-hadoop3.2/licenses/LICENSE-py4j.txt\n",
            "spark-3.0.1-bin-hadoop3.2/licenses/LICENSE-javassist.html\n",
            "spark-3.0.1-bin-hadoop3.2/licenses/LICENSE-respond.txt\n",
            "spark-3.0.1-bin-hadoop3.2/licenses/LICENSE-jakarta-annotation-api\n",
            "spark-3.0.1-bin-hadoop3.2/licenses/LICENSE-datatables.txt\n",
            "spark-3.0.1-bin-hadoop3.2/licenses/LICENSE-re2j.txt\n",
            "spark-3.0.1-bin-hadoop3.2/licenses/LICENSE-janino.txt\n",
            "spark-3.0.1-bin-hadoop3.2/licenses/LICENSE-CC0.txt\n",
            "spark-3.0.1-bin-hadoop3.2/licenses/LICENSE-json-formatter.txt\n",
            "spark-3.0.1-bin-hadoop3.2/licenses/LICENSE-heapq.txt\n",
            "spark-3.0.1-bin-hadoop3.2/licenses/LICENSE-jodd.txt\n",
            "spark-3.0.1-bin-hadoop3.2/licenses/LICENSE-jsp-api.txt\n",
            "spark-3.0.1-bin-hadoop3.2/licenses/LICENSE-reflectasm.txt\n",
            "spark-3.0.1-bin-hadoop3.2/licenses/LICENSE-jline.txt\n",
            "spark-3.0.1-bin-hadoop3.2/licenses/LICENSE-pmml-model.txt\n",
            "spark-3.0.1-bin-hadoop3.2/licenses/LICENSE-machinist.txt\n",
            "spark-3.0.1-bin-hadoop3.2/licenses/LICENSE-sorttable.js.txt\n",
            "spark-3.0.1-bin-hadoop3.2/licenses/LICENSE-leveldbjni.txt\n",
            "spark-3.0.1-bin-hadoop3.2/licenses/LICENSE-protobuf.txt\n",
            "spark-3.0.1-bin-hadoop3.2/licenses/LICENSE-dagre-d3.txt\n",
            "spark-3.0.1-bin-hadoop3.2/licenses/LICENSE-jaxb-runtime.txt\n",
            "spark-3.0.1-bin-hadoop3.2/licenses/LICENSE-antlr.txt\n",
            "spark-3.0.1-bin-hadoop3.2/licenses/LICENSE-minlog.txt\n",
            "spark-3.0.1-bin-hadoop3.2/licenses/LICENSE-AnchorJS.txt\n",
            "spark-3.0.1-bin-hadoop3.2/licenses/LICENSE-dnsjava.txt\n",
            "spark-3.0.1-bin-hadoop3.2/LICENSE\n",
            "spark-3.0.1-bin-hadoop3.2/kubernetes/\n",
            "spark-3.0.1-bin-hadoop3.2/kubernetes/dockerfiles/\n",
            "spark-3.0.1-bin-hadoop3.2/kubernetes/dockerfiles/spark/\n",
            "spark-3.0.1-bin-hadoop3.2/kubernetes/dockerfiles/spark/entrypoint.sh\n",
            "spark-3.0.1-bin-hadoop3.2/kubernetes/dockerfiles/spark/bindings/\n",
            "spark-3.0.1-bin-hadoop3.2/kubernetes/dockerfiles/spark/bindings/R/\n",
            "spark-3.0.1-bin-hadoop3.2/kubernetes/dockerfiles/spark/bindings/R/Dockerfile\n",
            "spark-3.0.1-bin-hadoop3.2/kubernetes/dockerfiles/spark/bindings/python/\n",
            "spark-3.0.1-bin-hadoop3.2/kubernetes/dockerfiles/spark/bindings/python/Dockerfile\n",
            "spark-3.0.1-bin-hadoop3.2/kubernetes/dockerfiles/spark/Dockerfile\n",
            "spark-3.0.1-bin-hadoop3.2/kubernetes/tests/\n",
            "spark-3.0.1-bin-hadoop3.2/kubernetes/tests/pyfiles.py\n",
            "spark-3.0.1-bin-hadoop3.2/kubernetes/tests/worker_memory_check.py\n",
            "spark-3.0.1-bin-hadoop3.2/kubernetes/tests/py_container_checks.py\n",
            "spark-3.0.1-bin-hadoop3.2/R/\n",
            "spark-3.0.1-bin-hadoop3.2/R/lib/\n",
            "spark-3.0.1-bin-hadoop3.2/R/lib/sparkr.zip\n",
            "spark-3.0.1-bin-hadoop3.2/R/lib/SparkR/\n",
            "spark-3.0.1-bin-hadoop3.2/R/lib/SparkR/html/\n",
            "spark-3.0.1-bin-hadoop3.2/R/lib/SparkR/html/00Index.html\n",
            "spark-3.0.1-bin-hadoop3.2/R/lib/SparkR/html/R.css\n",
            "spark-3.0.1-bin-hadoop3.2/R/lib/SparkR/help/\n",
            "spark-3.0.1-bin-hadoop3.2/R/lib/SparkR/help/aliases.rds\n",
            "spark-3.0.1-bin-hadoop3.2/R/lib/SparkR/help/AnIndex\n",
            "spark-3.0.1-bin-hadoop3.2/R/lib/SparkR/help/paths.rds\n",
            "spark-3.0.1-bin-hadoop3.2/R/lib/SparkR/help/SparkR.rdx\n",
            "spark-3.0.1-bin-hadoop3.2/R/lib/SparkR/help/SparkR.rdb\n",
            "spark-3.0.1-bin-hadoop3.2/R/lib/SparkR/DESCRIPTION\n",
            "spark-3.0.1-bin-hadoop3.2/R/lib/SparkR/Meta/\n",
            "spark-3.0.1-bin-hadoop3.2/R/lib/SparkR/Meta/features.rds\n",
            "spark-3.0.1-bin-hadoop3.2/R/lib/SparkR/Meta/nsInfo.rds\n",
            "spark-3.0.1-bin-hadoop3.2/R/lib/SparkR/Meta/links.rds\n",
            "spark-3.0.1-bin-hadoop3.2/R/lib/SparkR/Meta/Rd.rds\n",
            "spark-3.0.1-bin-hadoop3.2/R/lib/SparkR/Meta/package.rds\n",
            "spark-3.0.1-bin-hadoop3.2/R/lib/SparkR/Meta/hsearch.rds\n",
            "spark-3.0.1-bin-hadoop3.2/R/lib/SparkR/INDEX\n",
            "spark-3.0.1-bin-hadoop3.2/R/lib/SparkR/profile/\n",
            "spark-3.0.1-bin-hadoop3.2/R/lib/SparkR/profile/general.R\n",
            "spark-3.0.1-bin-hadoop3.2/R/lib/SparkR/profile/shell.R\n",
            "spark-3.0.1-bin-hadoop3.2/R/lib/SparkR/R/\n",
            "spark-3.0.1-bin-hadoop3.2/R/lib/SparkR/R/SparkR\n",
            "spark-3.0.1-bin-hadoop3.2/R/lib/SparkR/R/SparkR.rdx\n",
            "spark-3.0.1-bin-hadoop3.2/R/lib/SparkR/R/SparkR.rdb\n",
            "spark-3.0.1-bin-hadoop3.2/R/lib/SparkR/worker/\n",
            "spark-3.0.1-bin-hadoop3.2/R/lib/SparkR/worker/worker.R\n",
            "spark-3.0.1-bin-hadoop3.2/R/lib/SparkR/worker/daemon.R\n",
            "spark-3.0.1-bin-hadoop3.2/R/lib/SparkR/NAMESPACE\n",
            "spark-3.0.1-bin-hadoop3.2/R/lib/SparkR/tests/\n",
            "spark-3.0.1-bin-hadoop3.2/R/lib/SparkR/tests/testthat/\n",
            "spark-3.0.1-bin-hadoop3.2/R/lib/SparkR/tests/testthat/test_basic.R\n",
            "spark-3.0.1-bin-hadoop3.2/NOTICE\n",
            "spark-3.0.1-bin-hadoop3.2/jars/\n",
            "spark-3.0.1-bin-hadoop3.2/jars/pyrolite-4.30.jar\n",
            "spark-3.0.1-bin-hadoop3.2/jars/hadoop-yarn-common-3.2.0.jar\n",
            "spark-3.0.1-bin-hadoop3.2/jars/parquet-hadoop-1.10.1.jar\n",
            "spark-3.0.1-bin-hadoop3.2/jars/hive-shims-2.3.7.jar\n",
            "spark-3.0.1-bin-hadoop3.2/jars/jackson-databind-2.10.0.jar\n",
            "spark-3.0.1-bin-hadoop3.2/jars/spire_2.12-0.17.0-M1.jar\n",
            "spark-3.0.1-bin-hadoop3.2/jars/jul-to-slf4j-1.7.30.jar\n",
            "spark-3.0.1-bin-hadoop3.2/jars/nimbus-jose-jwt-4.41.1.jar\n",
            "spark-3.0.1-bin-hadoop3.2/jars/stax2-api-3.1.4.jar\n",
            "spark-3.0.1-bin-hadoop3.2/jars/json4s-ast_2.12-3.6.6.jar\n",
            "spark-3.0.1-bin-hadoop3.2/jars/jersey-media-jaxb-2.30.jar\n",
            "spark-3.0.1-bin-hadoop3.2/jars/commons-configuration2-2.1.1.jar\n",
            "spark-3.0.1-bin-hadoop3.2/jars/xbean-asm7-shaded-4.15.jar\n",
            "spark-3.0.1-bin-hadoop3.2/jars/spark-catalyst_2.12-3.0.1.jar\n",
            "spark-3.0.1-bin-hadoop3.2/jars/commons-logging-1.1.3.jar\n",
            "spark-3.0.1-bin-hadoop3.2/jars/curator-recipes-2.13.0.jar\n",
            "spark-3.0.1-bin-hadoop3.2/jars/RoaringBitmap-0.7.45.jar\n",
            "spark-3.0.1-bin-hadoop3.2/jars/commons-daemon-1.0.13.jar\n",
            "spark-3.0.1-bin-hadoop3.2/jars/jakarta.inject-2.6.1.jar\n",
            "spark-3.0.1-bin-hadoop3.2/jars/flatbuffers-java-1.9.0.jar\n",
            "spark-3.0.1-bin-hadoop3.2/jars/guice-servlet-4.0.jar\n",
            "spark-3.0.1-bin-hadoop3.2/jars/kubernetes-model-common-4.9.2.jar\n",
            "spark-3.0.1-bin-hadoop3.2/jars/json-1.8.jar\n",
            "spark-3.0.1-bin-hadoop3.2/jars/jaxb-runtime-2.3.2.jar\n",
            "spark-3.0.1-bin-hadoop3.2/jars/mesos-1.4.0-shaded-protobuf.jar\n",
            "spark-3.0.1-bin-hadoop3.2/jars/orc-core-1.5.10.jar\n",
            "spark-3.0.1-bin-hadoop3.2/jars/chill_2.12-0.9.5.jar\n",
            "spark-3.0.1-bin-hadoop3.2/jars/leveldbjni-all-1.8.jar\n",
            "spark-3.0.1-bin-hadoop3.2/jars/kryo-shaded-4.0.2.jar\n",
            "spark-3.0.1-bin-hadoop3.2/jars/curator-framework-2.13.0.jar\n",
            "spark-3.0.1-bin-hadoop3.2/jars/jackson-annotations-2.10.0.jar\n",
            "spark-3.0.1-bin-hadoop3.2/jars/hk2-api-2.6.1.jar\n",
            "spark-3.0.1-bin-hadoop3.2/jars/hk2-locator-2.6.1.jar\n",
            "spark-3.0.1-bin-hadoop3.2/jars/commons-beanutils-1.9.4.jar\n",
            "spark-3.0.1-bin-hadoop3.2/jars/osgi-resource-locator-1.0.3.jar\n",
            "spark-3.0.1-bin-hadoop3.2/jars/antlr4-runtime-4.7.1.jar\n",
            "spark-3.0.1-bin-hadoop3.2/jars/jersey-client-2.30.jar\n",
            "spark-3.0.1-bin-hadoop3.2/jars/json4s-scalap_2.12-3.6.6.jar\n",
            "spark-3.0.1-bin-hadoop3.2/jars/accessors-smart-1.2.jar\n",
            "spark-3.0.1-bin-hadoop3.2/jars/joda-time-2.10.5.jar\n",
            "spark-3.0.1-bin-hadoop3.2/jars/okio-1.15.0.jar\n",
            "spark-3.0.1-bin-hadoop3.2/jars/libthrift-0.12.0.jar\n",
            "spark-3.0.1-bin-hadoop3.2/jars/gson-2.2.4.jar\n",
            "spark-3.0.1-bin-hadoop3.2/jars/hadoop-hdfs-client-3.2.0.jar\n",
            "spark-3.0.1-bin-hadoop3.2/jars/hadoop-mapreduce-client-core-3.2.0.jar\n",
            "spark-3.0.1-bin-hadoop3.2/jars/guice-4.0.jar\n",
            "spark-3.0.1-bin-hadoop3.2/jars/hadoop-yarn-client-3.2.0.jar\n",
            "spark-3.0.1-bin-hadoop3.2/jars/jta-1.1.jar\n",
            "spark-3.0.1-bin-hadoop3.2/jars/parquet-jackson-1.10.1.jar\n",
            "spark-3.0.1-bin-hadoop3.2/jars/super-csv-2.2.0.jar\n",
            "spark-3.0.1-bin-hadoop3.2/jars/commons-httpclient-3.1.jar\n",
            "spark-3.0.1-bin-hadoop3.2/jars/woodstox-core-5.0.3.jar\n",
            "spark-3.0.1-bin-hadoop3.2/jars/javax.jdo-3.2.0-m3.jar\n",
            "spark-3.0.1-bin-hadoop3.2/jars/kerb-admin-1.0.1.jar\n",
            "spark-3.0.1-bin-hadoop3.2/jars/hadoop-client-3.2.0.jar\n",
            "spark-3.0.1-bin-hadoop3.2/jars/httpclient-4.5.6.jar\n",
            "spark-3.0.1-bin-hadoop3.2/jars/datanucleus-api-jdo-4.2.4.jar\n",
            "spark-3.0.1-bin-hadoop3.2/jars/aopalliance-1.0.jar\n",
            "spark-3.0.1-bin-hadoop3.2/jars/slf4j-api-1.7.30.jar\n",
            "spark-3.0.1-bin-hadoop3.2/jars/univocity-parsers-2.9.0.jar\n",
            "spark-3.0.1-bin-hadoop3.2/jars/scala-compiler-2.12.10.jar\n",
            "spark-3.0.1-bin-hadoop3.2/jars/transaction-api-1.1.jar\n",
            "spark-3.0.1-bin-hadoop3.2/jars/hive-serde-2.3.7.jar\n",
            "spark-3.0.1-bin-hadoop3.2/jars/JLargeArrays-1.5.jar\n",
            "spark-3.0.1-bin-hadoop3.2/jars/libfb303-0.9.3.jar\n",
            "spark-3.0.1-bin-hadoop3.2/jars/hadoop-auth-3.2.0.jar\n",
            "spark-3.0.1-bin-hadoop3.2/jars/jakarta.ws.rs-api-2.1.6.jar\n",
            "spark-3.0.1-bin-hadoop3.2/jars/hive-shims-0.23-2.3.7.jar\n",
            "spark-3.0.1-bin-hadoop3.2/jars/dnsjava-2.1.7.jar\n",
            "spark-3.0.1-bin-hadoop3.2/jars/snappy-java-1.1.7.5.jar\n",
            "spark-3.0.1-bin-hadoop3.2/jars/compress-lzf-1.0.3.jar\n",
            "spark-3.0.1-bin-hadoop3.2/jars/commons-io-2.4.jar\n",
            "spark-3.0.1-bin-hadoop3.2/jars/snakeyaml-1.24.jar\n",
            "spark-3.0.1-bin-hadoop3.2/jars/spark-hive-thriftserver_2.12-3.0.1.jar\n",
            "spark-3.0.1-bin-hadoop3.2/jars/breeze-macros_2.12-1.0.jar\n",
            "spark-3.0.1-bin-hadoop3.2/jars/metrics-json-4.1.1.jar\n",
            "spark-3.0.1-bin-hadoop3.2/jars/hadoop-mapreduce-client-common-3.2.0.jar\n",
            "spark-3.0.1-bin-hadoop3.2/jars/okhttp-2.7.5.jar\n",
            "spark-3.0.1-bin-hadoop3.2/jars/hk2-utils-2.6.1.jar\n",
            "spark-3.0.1-bin-hadoop3.2/jars/bonecp-0.8.0.RELEASE.jar\n",
            "spark-3.0.1-bin-hadoop3.2/jars/automaton-1.11-8.jar\n",
            "spark-3.0.1-bin-hadoop3.2/jars/avro-ipc-1.8.2.jar\n",
            "spark-3.0.1-bin-hadoop3.2/jars/re2j-1.1.jar\n",
            "spark-3.0.1-bin-hadoop3.2/jars/spark-core_2.12-3.0.1.jar\n",
            "spark-3.0.1-bin-hadoop3.2/jars/okhttp-3.12.6.jar\n",
            "spark-3.0.1-bin-hadoop3.2/jars/kerb-client-1.0.1.jar\n",
            "spark-3.0.1-bin-hadoop3.2/jars/jackson-datatype-jsr310-2.10.3.jar\n",
            "spark-3.0.1-bin-hadoop3.2/jars/metrics-jvm-4.1.1.jar\n",
            "spark-3.0.1-bin-hadoop3.2/jars/avro-mapred-1.8.2-hadoop2.jar\n",
            "spark-3.0.1-bin-hadoop3.2/jars/guava-14.0.1.jar\n",
            "spark-3.0.1-bin-hadoop3.2/jars/algebra_2.12-2.0.0-M2.jar\n",
            "spark-3.0.1-bin-hadoop3.2/jars/protobuf-java-2.5.0.jar\n",
            "spark-3.0.1-bin-hadoop3.2/jars/stream-2.9.6.jar\n",
            "spark-3.0.1-bin-hadoop3.2/jars/spark-tags_2.12-3.0.1.jar\n",
            "spark-3.0.1-bin-hadoop3.2/jars/metrics-core-4.1.1.jar\n",
            "spark-3.0.1-bin-hadoop3.2/jars/kerb-server-1.0.1.jar\n",
            "spark-3.0.1-bin-hadoop3.2/jars/hadoop-annotations-3.2.0.jar\n",
            "spark-3.0.1-bin-hadoop3.2/jars/stax-api-1.0.1.jar\n",
            "spark-3.0.1-bin-hadoop3.2/jars/jackson-module-scala_2.12-2.10.0.jar\n",
            "spark-3.0.1-bin-hadoop3.2/jars/commons-cli-1.2.jar\n",
            "spark-3.0.1-bin-hadoop3.2/jars/spark-kvstore_2.12-3.0.1.jar\n",
            "spark-3.0.1-bin-hadoop3.2/jars/aopalliance-repackaged-2.6.1.jar\n",
            "spark-3.0.1-bin-hadoop3.2/jars/arrow-vector-0.15.1.jar\n",
            "spark-3.0.1-bin-hadoop3.2/jars/datanucleus-core-4.1.17.jar\n",
            "spark-3.0.1-bin-hadoop3.2/jars/spark-network-shuffle_2.12-3.0.1.jar\n",
            "spark-3.0.1-bin-hadoop3.2/jars/lz4-java-1.7.1.jar\n",
            "spark-3.0.1-bin-hadoop3.2/jars/hadoop-yarn-api-3.2.0.jar\n",
            "spark-3.0.1-bin-hadoop3.2/jars/hive-jdbc-2.3.7.jar\n",
            "spark-3.0.1-bin-hadoop3.2/jars/janino-3.0.16.jar\n",
            "spark-3.0.1-bin-hadoop3.2/jars/ivy-2.4.0.jar\n",
            "spark-3.0.1-bin-hadoop3.2/jars/commons-lang3-3.9.jar\n",
            "spark-3.0.1-bin-hadoop3.2/jars/arpack_combined_all-0.1.jar\n",
            "spark-3.0.1-bin-hadoop3.2/jars/spark-hive_2.12-3.0.1.jar\n",
            "spark-3.0.1-bin-hadoop3.2/jars/kerby-asn1-1.0.1.jar\n",
            "spark-3.0.1-bin-hadoop3.2/jars/derby-10.12.1.1.jar\n",
            "spark-3.0.1-bin-hadoop3.2/jars/commons-text-1.6.jar\n",
            "spark-3.0.1-bin-hadoop3.2/jars/macro-compat_2.12-1.1.1.jar\n",
            "spark-3.0.1-bin-hadoop3.2/jars/hive-beeline-2.3.7.jar\n",
            "spark-3.0.1-bin-hadoop3.2/jars/slf4j-log4j12-1.7.30.jar\n",
            "spark-3.0.1-bin-hadoop3.2/jars/scala-collection-compat_2.12-2.1.1.jar\n",
            "spark-3.0.1-bin-hadoop3.2/jars/hive-llap-common-2.3.7.jar\n",
            "spark-3.0.1-bin-hadoop3.2/jars/jakarta.xml.bind-api-2.3.2.jar\n",
            "spark-3.0.1-bin-hadoop3.2/jars/hive-shims-common-2.3.7.jar\n",
            "spark-3.0.1-bin-hadoop3.2/jars/hadoop-yarn-server-common-3.2.0.jar\n",
            "spark-3.0.1-bin-hadoop3.2/jars/generex-1.0.2.jar\n",
            "spark-3.0.1-bin-hadoop3.2/jars/objenesis-2.5.1.jar\n",
            "spark-3.0.1-bin-hadoop3.2/jars/commons-math3-3.4.1.jar\n",
            "spark-3.0.1-bin-hadoop3.2/jars/metrics-graphite-4.1.1.jar\n",
            "spark-3.0.1-bin-hadoop3.2/jars/logging-interceptor-3.12.6.jar\n",
            "spark-3.0.1-bin-hadoop3.2/jars/commons-codec-1.10.jar\n",
            "spark-3.0.1-bin-hadoop3.2/jars/HikariCP-2.5.1.jar\n",
            "spark-3.0.1-bin-hadoop3.2/jars/jackson-core-asl-1.9.13.jar\n",
            "spark-3.0.1-bin-hadoop3.2/jars/kerb-core-1.0.1.jar\n",
            "spark-3.0.1-bin-hadoop3.2/jars/core-1.1.2.jar\n",
            "spark-3.0.1-bin-hadoop3.2/jars/spark-tags_2.12-3.0.1-tests.jar\n",
            "spark-3.0.1-bin-hadoop3.2/jars/arrow-format-0.15.1.jar\n",
            "spark-3.0.1-bin-hadoop3.2/jars/orc-shims-1.5.10.jar\n",
            "spark-3.0.1-bin-hadoop3.2/jars/jdo-api-3.0.1.jar\n",
            "spark-3.0.1-bin-hadoop3.2/jars/log4j-1.2.17.jar\n",
            "spark-3.0.1-bin-hadoop3.2/jars/paranamer-2.8.jar\n",
            "spark-3.0.1-bin-hadoop3.2/jars/jodd-core-3.5.2.jar\n",
            "spark-3.0.1-bin-hadoop3.2/jars/kubernetes-model-4.9.2.jar\n",
            "spark-3.0.1-bin-hadoop3.2/jars/kerb-crypto-1.0.1.jar\n",
            "spark-3.0.1-bin-hadoop3.2/jars/spire-util_2.12-0.17.0-M1.jar\n",
            "spark-3.0.1-bin-hadoop3.2/jars/htrace-core4-4.1.0-incubating.jar\n",
            "spark-3.0.1-bin-hadoop3.2/jars/jcl-over-slf4j-1.7.30.jar\n",
            "spark-3.0.1-bin-hadoop3.2/jars/shapeless_2.12-2.3.3.jar\n",
            "spark-3.0.1-bin-hadoop3.2/jars/hive-metastore-2.3.7.jar\n",
            "spark-3.0.1-bin-hadoop3.2/jars/parquet-common-1.10.1.jar\n",
            "spark-3.0.1-bin-hadoop3.2/jars/zstd-jni-1.4.4-3.jar\n",
            "spark-3.0.1-bin-hadoop3.2/jars/hive-vector-code-gen-2.3.7.jar\n",
            "spark-3.0.1-bin-hadoop3.2/jars/hadoop-mapreduce-client-jobclient-3.2.0.jar\n",
            "spark-3.0.1-bin-hadoop3.2/jars/jakarta.validation-api-2.0.2.jar\n",
            "spark-3.0.1-bin-hadoop3.2/jars/jersey-container-servlet-core-2.30.jar\n",
            "spark-3.0.1-bin-hadoop3.2/jars/scala-parser-combinators_2.12-1.1.2.jar\n",
            "spark-3.0.1-bin-hadoop3.2/jars/javassist-3.25.0-GA.jar\n",
            "spark-3.0.1-bin-hadoop3.2/jars/hadoop-yarn-registry-3.2.0.jar\n",
            "spark-3.0.1-bin-hadoop3.2/jars/commons-lang-2.6.jar\n",
            "spark-3.0.1-bin-hadoop3.2/jars/hive-shims-scheduler-2.3.7.jar\n",
            "spark-3.0.1-bin-hadoop3.2/jars/spire-macros_2.12-0.17.0-M1.jar\n",
            "spark-3.0.1-bin-hadoop3.2/jars/parquet-format-2.4.0.jar\n",
            "spark-3.0.1-bin-hadoop3.2/jars/hadoop-common-3.2.0.jar\n",
            "spark-3.0.1-bin-hadoop3.2/jars/commons-compiler-3.0.16.jar\n",
            "spark-3.0.1-bin-hadoop3.2/jars/opencsv-2.3.jar\n",
            "spark-3.0.1-bin-hadoop3.2/jars/jakarta.annotation-api-1.3.5.jar\n",
            "spark-3.0.1-bin-hadoop3.2/jars/jpam-1.1.jar\n",
            "spark-3.0.1-bin-hadoop3.2/jars/kerby-pkix-1.0.1.jar\n",
            "spark-3.0.1-bin-hadoop3.2/jars/ehcache-3.3.1.jar\n",
            "spark-3.0.1-bin-hadoop3.2/jars/py4j-0.10.9.jar\n",
            "spark-3.0.1-bin-hadoop3.2/jars/istack-commons-runtime-3.0.8.jar\n",
            "spark-3.0.1-bin-hadoop3.2/jars/spire-platform_2.12-0.17.0-M1.jar\n",
            "spark-3.0.1-bin-hadoop3.2/jars/datanucleus-rdbms-4.1.19.jar\n",
            "spark-3.0.1-bin-hadoop3.2/jars/spark-repl_2.12-3.0.1.jar\n",
            "spark-3.0.1-bin-hadoop3.2/jars/spark-mesos_2.12-3.0.1.jar\n",
            "spark-3.0.1-bin-hadoop3.2/jars/json4s-jackson_2.12-3.6.6.jar\n",
            "spark-3.0.1-bin-hadoop3.2/jars/jackson-module-paranamer-2.10.0.jar\n",
            "spark-3.0.1-bin-hadoop3.2/jars/hive-cli-2.3.7.jar\n",
            "spark-3.0.1-bin-hadoop3.2/jars/jackson-jaxrs-base-2.9.5.jar\n",
            "spark-3.0.1-bin-hadoop3.2/jars/javax.inject-1.jar\n",
            "spark-3.0.1-bin-hadoop3.2/jars/jersey-container-servlet-2.30.jar\n",
            "spark-3.0.1-bin-hadoop3.2/jars/jersey-common-2.30.jar\n",
            "spark-3.0.1-bin-hadoop3.2/jars/commons-pool-1.5.4.jar\n",
            "spark-3.0.1-bin-hadoop3.2/jars/shims-0.7.45.jar\n",
            "spark-3.0.1-bin-hadoop3.2/jars/jackson-core-2.10.0.jar\n",
            "spark-3.0.1-bin-hadoop3.2/jars/jline-2.14.6.jar\n",
            "spark-3.0.1-bin-hadoop3.2/jars/kerb-identity-1.0.1.jar\n",
            "spark-3.0.1-bin-hadoop3.2/jars/jsp-api-2.1.jar\n",
            "spark-3.0.1-bin-hadoop3.2/jars/jakarta.activation-api-1.2.1.jar\n",
            "spark-3.0.1-bin-hadoop3.2/jars/httpcore-4.4.12.jar\n",
            "spark-3.0.1-bin-hadoop3.2/jars/ST4-4.0.4.jar\n",
            "spark-3.0.1-bin-hadoop3.2/jars/metrics-jmx-4.1.1.jar\n",
            "spark-3.0.1-bin-hadoop3.2/jars/kerby-xdr-1.0.1.jar\n",
            "spark-3.0.1-bin-hadoop3.2/jars/jackson-module-jaxb-annotations-2.10.0.jar\n",
            "spark-3.0.1-bin-hadoop3.2/jars/jersey-hk2-2.30.jar\n",
            "spark-3.0.1-bin-hadoop3.2/jars/orc-mapreduce-1.5.10.jar\n",
            "spark-3.0.1-bin-hadoop3.2/jars/jersey-server-2.30.jar\n",
            "spark-3.0.1-bin-hadoop3.2/jars/JTransforms-3.1.jar\n",
            "spark-3.0.1-bin-hadoop3.2/jars/javax.servlet-api-3.1.0.jar\n",
            "spark-3.0.1-bin-hadoop3.2/jars/spark-graphx_2.12-3.0.1.jar\n",
            "spark-3.0.1-bin-hadoop3.2/jars/spark-unsafe_2.12-3.0.1.jar\n",
            "spark-3.0.1-bin-hadoop3.2/jars/arrow-memory-0.15.1.jar\n",
            "spark-3.0.1-bin-hadoop3.2/jars/spark-sketch_2.12-3.0.1.jar\n",
            "spark-3.0.1-bin-hadoop3.2/jars/hive-exec-2.3.7-core.jar\n",
            "spark-3.0.1-bin-hadoop3.2/jars/machinist_2.12-0.6.8.jar\n",
            "spark-3.0.1-bin-hadoop3.2/jars/antlr-runtime-3.5.2.jar\n",
            "spark-3.0.1-bin-hadoop3.2/jars/spark-streaming_2.12-3.0.1.jar\n",
            "spark-3.0.1-bin-hadoop3.2/jars/commons-net-3.1.jar\n",
            "spark-3.0.1-bin-hadoop3.2/jars/audience-annotations-0.5.0.jar\n",
            "spark-3.0.1-bin-hadoop3.2/jars/velocity-1.5.jar\n",
            "spark-3.0.1-bin-hadoop3.2/jars/curator-client-2.13.0.jar\n",
            "spark-3.0.1-bin-hadoop3.2/jars/kerby-config-1.0.1.jar\n",
            "spark-3.0.1-bin-hadoop3.2/jars/hive-storage-api-2.7.1.jar\n",
            "spark-3.0.1-bin-hadoop3.2/jars/kerb-common-1.0.1.jar\n",
            "spark-3.0.1-bin-hadoop3.2/jars/commons-compress-1.8.1.jar\n",
            "spark-3.0.1-bin-hadoop3.2/jars/breeze_2.12-1.0.jar\n",
            "spark-3.0.1-bin-hadoop3.2/jars/netty-all-4.1.47.Final.jar\n",
            "spark-3.0.1-bin-hadoop3.2/jars/zjsonpatch-0.3.0.jar\n",
            "spark-3.0.1-bin-hadoop3.2/jars/chill-java-0.9.5.jar\n",
            "spark-3.0.1-bin-hadoop3.2/jars/activation-1.1.1.jar\n",
            "spark-3.0.1-bin-hadoop3.2/jars/spark-mllib_2.12-3.0.1.jar\n",
            "spark-3.0.1-bin-hadoop3.2/jars/dropwizard-metrics-hadoop-metrics2-reporter-0.1.2.jar\n",
            "spark-3.0.1-bin-hadoop3.2/jars/spark-launcher_2.12-3.0.1.jar\n",
            "spark-3.0.1-bin-hadoop3.2/jars/spark-network-common_2.12-3.0.1.jar\n",
            "spark-3.0.1-bin-hadoop3.2/jars/kerby-util-1.0.1.jar\n",
            "spark-3.0.1-bin-hadoop3.2/jars/hadoop-yarn-server-web-proxy-3.2.0.jar\n",
            "spark-3.0.1-bin-hadoop3.2/jars/jcip-annotations-1.0-1.jar\n",
            "spark-3.0.1-bin-hadoop3.2/jars/jackson-mapper-asl-1.9.13.jar\n",
            "spark-3.0.1-bin-hadoop3.2/jars/geronimo-jcache_1.0_spec-1.0-alpha-1.jar\n",
            "spark-3.0.1-bin-hadoop3.2/jars/token-provider-1.0.1.jar\n",
            "spark-3.0.1-bin-hadoop3.2/jars/oro-2.0.8.jar\n",
            "spark-3.0.1-bin-hadoop3.2/jars/jackson-jaxrs-json-provider-2.9.5.jar\n",
            "spark-3.0.1-bin-hadoop3.2/jars/kubernetes-client-4.9.2.jar\n",
            "spark-3.0.1-bin-hadoop3.2/jars/kerb-simplekdc-1.0.1.jar\n",
            "spark-3.0.1-bin-hadoop3.2/jars/jsr305-3.0.0.jar\n",
            "spark-3.0.1-bin-hadoop3.2/jars/jaxb-api-2.2.11.jar\n",
            "spark-3.0.1-bin-hadoop3.2/jars/spark-yarn_2.12-3.0.1.jar\n",
            "spark-3.0.1-bin-hadoop3.2/jars/spark-mllib-local_2.12-3.0.1.jar\n",
            "spark-3.0.1-bin-hadoop3.2/jars/json4s-core_2.12-3.6.6.jar\n",
            "spark-3.0.1-bin-hadoop3.2/jars/xz-1.5.jar\n",
            "spark-3.0.1-bin-hadoop3.2/jars/zookeeper-3.4.14.jar\n",
            "spark-3.0.1-bin-hadoop3.2/jars/threeten-extra-1.5.0.jar\n",
            "spark-3.0.1-bin-hadoop3.2/jars/parquet-column-1.10.1.jar\n",
            "spark-3.0.1-bin-hadoop3.2/jars/kerb-util-1.0.1.jar\n",
            "spark-3.0.1-bin-hadoop3.2/jars/spark-sql_2.12-3.0.1.jar\n",
            "spark-3.0.1-bin-hadoop3.2/jars/commons-crypto-1.0.0.jar\n",
            "spark-3.0.1-bin-hadoop3.2/jars/javolution-5.5.1.jar\n",
            "spark-3.0.1-bin-hadoop3.2/jars/aircompressor-0.10.jar\n",
            "spark-3.0.1-bin-hadoop3.2/jars/scala-library-2.12.10.jar\n",
            "spark-3.0.1-bin-hadoop3.2/jars/hive-common-2.3.7.jar\n",
            "spark-3.0.1-bin-hadoop3.2/jars/json-smart-2.3.jar\n",
            "spark-3.0.1-bin-hadoop3.2/jars/commons-dbcp-1.4.jar\n",
            "spark-3.0.1-bin-hadoop3.2/jars/parquet-encoding-1.10.1.jar\n",
            "spark-3.0.1-bin-hadoop3.2/jars/commons-collections-3.2.2.jar\n",
            "spark-3.0.1-bin-hadoop3.2/jars/scala-xml_2.12-1.2.0.jar\n",
            "spark-3.0.1-bin-hadoop3.2/jars/jackson-dataformat-yaml-2.10.0.jar\n",
            "spark-3.0.1-bin-hadoop3.2/jars/cats-kernel_2.12-2.0.0-M4.jar\n",
            "spark-3.0.1-bin-hadoop3.2/jars/scala-reflect-2.12.10.jar\n",
            "spark-3.0.1-bin-hadoop3.2/jars/avro-1.8.2.jar\n",
            "spark-3.0.1-bin-hadoop3.2/jars/minlog-1.3.0.jar\n",
            "spark-3.0.1-bin-hadoop3.2/jars/spark-kubernetes_2.12-3.0.1.jar\n",
            "spark-3.0.1-bin-hadoop3.2/python/\n",
            "spark-3.0.1-bin-hadoop3.2/python/setup.py\n",
            "spark-3.0.1-bin-hadoop3.2/python/pyspark/\n",
            "spark-3.0.1-bin-hadoop3.2/python/pyspark/ml/\n",
            "spark-3.0.1-bin-hadoop3.2/python/pyspark/ml/functions.py\n",
            "spark-3.0.1-bin-hadoop3.2/python/pyspark/ml/util.py\n",
            "spark-3.0.1-bin-hadoop3.2/python/pyspark/ml/regression.py\n",
            "spark-3.0.1-bin-hadoop3.2/python/pyspark/ml/evaluation.py\n",
            "spark-3.0.1-bin-hadoop3.2/python/pyspark/ml/feature.py\n",
            "spark-3.0.1-bin-hadoop3.2/python/pyspark/ml/base.py\n",
            "spark-3.0.1-bin-hadoop3.2/python/pyspark/ml/tuning.py\n",
            "spark-3.0.1-bin-hadoop3.2/python/pyspark/ml/clustering.py\n",
            "spark-3.0.1-bin-hadoop3.2/python/pyspark/ml/stat.py\n",
            "spark-3.0.1-bin-hadoop3.2/python/pyspark/ml/image.py\n",
            "spark-3.0.1-bin-hadoop3.2/python/pyspark/ml/fpm.py\n",
            "spark-3.0.1-bin-hadoop3.2/python/pyspark/ml/recommendation.py\n",
            "spark-3.0.1-bin-hadoop3.2/python/pyspark/ml/pipeline.py\n",
            "spark-3.0.1-bin-hadoop3.2/python/pyspark/ml/param/\n",
            "spark-3.0.1-bin-hadoop3.2/python/pyspark/ml/param/_shared_params_code_gen.py\n",
            "spark-3.0.1-bin-hadoop3.2/python/pyspark/ml/param/__init__.py\n",
            "spark-3.0.1-bin-hadoop3.2/python/pyspark/ml/param/shared.py\n",
            "spark-3.0.1-bin-hadoop3.2/python/pyspark/ml/common.py\n",
            "spark-3.0.1-bin-hadoop3.2/python/pyspark/ml/linalg/\n",
            "spark-3.0.1-bin-hadoop3.2/python/pyspark/ml/linalg/__init__.py\n",
            "spark-3.0.1-bin-hadoop3.2/python/pyspark/ml/classification.py\n",
            "spark-3.0.1-bin-hadoop3.2/python/pyspark/ml/tree.py\n",
            "spark-3.0.1-bin-hadoop3.2/python/pyspark/ml/wrapper.py\n",
            "spark-3.0.1-bin-hadoop3.2/python/pyspark/ml/__init__.py\n",
            "spark-3.0.1-bin-hadoop3.2/python/pyspark/ml/tests/\n",
            "spark-3.0.1-bin-hadoop3.2/python/pyspark/ml/tests/test_wrapper.py\n",
            "spark-3.0.1-bin-hadoop3.2/python/pyspark/ml/tests/test_tuning.py\n",
            "spark-3.0.1-bin-hadoop3.2/python/pyspark/ml/tests/test_base.py\n",
            "spark-3.0.1-bin-hadoop3.2/python/pyspark/ml/tests/test_evaluation.py\n",
            "spark-3.0.1-bin-hadoop3.2/python/pyspark/ml/tests/test_linalg.py\n",
            "spark-3.0.1-bin-hadoop3.2/python/pyspark/ml/tests/test_image.py\n",
            "spark-3.0.1-bin-hadoop3.2/python/pyspark/ml/tests/test_persistence.py\n",
            "spark-3.0.1-bin-hadoop3.2/python/pyspark/ml/tests/test_feature.py\n",
            "spark-3.0.1-bin-hadoop3.2/python/pyspark/ml/tests/test_param.py\n",
            "spark-3.0.1-bin-hadoop3.2/python/pyspark/ml/tests/test_algorithms.py\n",
            "spark-3.0.1-bin-hadoop3.2/python/pyspark/ml/tests/test_pipeline.py\n",
            "spark-3.0.1-bin-hadoop3.2/python/pyspark/ml/tests/__init__.py\n",
            "spark-3.0.1-bin-hadoop3.2/python/pyspark/ml/tests/test_training_summary.py\n",
            "spark-3.0.1-bin-hadoop3.2/python/pyspark/ml/tests/test_stat.py\n",
            "spark-3.0.1-bin-hadoop3.2/python/pyspark/statcounter.py\n",
            "spark-3.0.1-bin-hadoop3.2/python/pyspark/status.py\n",
            "spark-3.0.1-bin-hadoop3.2/python/pyspark/java_gateway.py\n",
            "spark-3.0.1-bin-hadoop3.2/python/pyspark/mllib/\n",
            "spark-3.0.1-bin-hadoop3.2/python/pyspark/mllib/util.py\n",
            "spark-3.0.1-bin-hadoop3.2/python/pyspark/mllib/regression.py\n",
            "spark-3.0.1-bin-hadoop3.2/python/pyspark/mllib/evaluation.py\n",
            "spark-3.0.1-bin-hadoop3.2/python/pyspark/mllib/feature.py\n",
            "spark-3.0.1-bin-hadoop3.2/python/pyspark/mllib/clustering.py\n",
            "spark-3.0.1-bin-hadoop3.2/python/pyspark/mllib/stat/\n",
            "spark-3.0.1-bin-hadoop3.2/python/pyspark/mllib/stat/test.py\n",
            "spark-3.0.1-bin-hadoop3.2/python/pyspark/mllib/stat/_statistics.py\n",
            "spark-3.0.1-bin-hadoop3.2/python/pyspark/mllib/stat/distribution.py\n",
            "spark-3.0.1-bin-hadoop3.2/python/pyspark/mllib/stat/KernelDensity.py\n",
            "spark-3.0.1-bin-hadoop3.2/python/pyspark/mllib/stat/__init__.py\n",
            "spark-3.0.1-bin-hadoop3.2/python/pyspark/mllib/fpm.py\n",
            "spark-3.0.1-bin-hadoop3.2/python/pyspark/mllib/recommendation.py\n",
            "spark-3.0.1-bin-hadoop3.2/python/pyspark/mllib/common.py\n",
            "spark-3.0.1-bin-hadoop3.2/python/pyspark/mllib/linalg/\n",
            "spark-3.0.1-bin-hadoop3.2/python/pyspark/mllib/linalg/distributed.py\n",
            "spark-3.0.1-bin-hadoop3.2/python/pyspark/mllib/linalg/__init__.py\n",
            "spark-3.0.1-bin-hadoop3.2/python/pyspark/mllib/classification.py\n",
            "spark-3.0.1-bin-hadoop3.2/python/pyspark/mllib/tree.py\n",
            "spark-3.0.1-bin-hadoop3.2/python/pyspark/mllib/__init__.py\n",
            "spark-3.0.1-bin-hadoop3.2/python/pyspark/mllib/random.py\n",
            "spark-3.0.1-bin-hadoop3.2/python/pyspark/mllib/tests/\n",
            "spark-3.0.1-bin-hadoop3.2/python/pyspark/mllib/tests/test_util.py\n",
            "spark-3.0.1-bin-hadoop3.2/python/pyspark/mllib/tests/test_linalg.py\n",
            "spark-3.0.1-bin-hadoop3.2/python/pyspark/mllib/tests/test_feature.py\n",
            "spark-3.0.1-bin-hadoop3.2/python/pyspark/mllib/tests/test_algorithms.py\n",
            "spark-3.0.1-bin-hadoop3.2/python/pyspark/mllib/tests/__init__.py\n",
            "spark-3.0.1-bin-hadoop3.2/python/pyspark/mllib/tests/test_streaming_algorithms.py\n",
            "spark-3.0.1-bin-hadoop3.2/python/pyspark/mllib/tests/test_stat.py\n",
            "spark-3.0.1-bin-hadoop3.2/python/pyspark/resource.py\n",
            "spark-3.0.1-bin-hadoop3.2/python/pyspark/serializers.py\n",
            "spark-3.0.1-bin-hadoop3.2/python/pyspark/util.py\n",
            "spark-3.0.1-bin-hadoop3.2/python/pyspark/daemon.py\n",
            "spark-3.0.1-bin-hadoop3.2/python/pyspark/context.py\n",
            "spark-3.0.1-bin-hadoop3.2/python/pyspark/broadcast.py\n",
            "spark-3.0.1-bin-hadoop3.2/python/pyspark/streaming/\n",
            "spark-3.0.1-bin-hadoop3.2/python/pyspark/streaming/util.py\n",
            "spark-3.0.1-bin-hadoop3.2/python/pyspark/streaming/listener.py\n",
            "spark-3.0.1-bin-hadoop3.2/python/pyspark/streaming/kinesis.py\n",
            "spark-3.0.1-bin-hadoop3.2/python/pyspark/streaming/context.py\n",
            "spark-3.0.1-bin-hadoop3.2/python/pyspark/streaming/dstream.py\n",
            "spark-3.0.1-bin-hadoop3.2/python/pyspark/streaming/__init__.py\n",
            "spark-3.0.1-bin-hadoop3.2/python/pyspark/streaming/tests/\n",
            "spark-3.0.1-bin-hadoop3.2/python/pyspark/streaming/tests/test_kinesis.py\n",
            "spark-3.0.1-bin-hadoop3.2/python/pyspark/streaming/tests/test_context.py\n",
            "spark-3.0.1-bin-hadoop3.2/python/pyspark/streaming/tests/test_dstream.py\n",
            "spark-3.0.1-bin-hadoop3.2/python/pyspark/streaming/tests/test_listener.py\n",
            "spark-3.0.1-bin-hadoop3.2/python/pyspark/streaming/tests/__init__.py\n",
            "spark-3.0.1-bin-hadoop3.2/python/pyspark/testing/\n",
            "spark-3.0.1-bin-hadoop3.2/python/pyspark/testing/mllibutils.py\n",
            "spark-3.0.1-bin-hadoop3.2/python/pyspark/testing/utils.py\n",
            "spark-3.0.1-bin-hadoop3.2/python/pyspark/testing/mlutils.py\n",
            "spark-3.0.1-bin-hadoop3.2/python/pyspark/testing/sqlutils.py\n",
            "spark-3.0.1-bin-hadoop3.2/python/pyspark/testing/streamingutils.py\n",
            "spark-3.0.1-bin-hadoop3.2/python/pyspark/testing/__init__.py\n",
            "spark-3.0.1-bin-hadoop3.2/python/pyspark/shell.py\n",
            "spark-3.0.1-bin-hadoop3.2/python/pyspark/heapq3.py\n",
            "spark-3.0.1-bin-hadoop3.2/python/pyspark/version.py\n",
            "spark-3.0.1-bin-hadoop3.2/python/pyspark/rddsampler.py\n",
            "spark-3.0.1-bin-hadoop3.2/python/pyspark/worker.py\n",
            "spark-3.0.1-bin-hadoop3.2/python/pyspark/cloudpickle.py\n",
            "spark-3.0.1-bin-hadoop3.2/python/pyspark/sql/\n",
            "spark-3.0.1-bin-hadoop3.2/python/pyspark/sql/functions.py\n",
            "spark-3.0.1-bin-hadoop3.2/python/pyspark/sql/column.py\n",
            "spark-3.0.1-bin-hadoop3.2/python/pyspark/sql/readwriter.py\n",
            "spark-3.0.1-bin-hadoop3.2/python/pyspark/sql/utils.py\n",
            "spark-3.0.1-bin-hadoop3.2/python/pyspark/sql/context.py\n",
            "spark-3.0.1-bin-hadoop3.2/python/pyspark/sql/avro/\n",
            "spark-3.0.1-bin-hadoop3.2/python/pyspark/sql/avro/functions.py\n",
            "spark-3.0.1-bin-hadoop3.2/python/pyspark/sql/avro/__init__.py\n",
            "spark-3.0.1-bin-hadoop3.2/python/pyspark/sql/window.py\n",
            "spark-3.0.1-bin-hadoop3.2/python/pyspark/sql/session.py\n",
            "spark-3.0.1-bin-hadoop3.2/python/pyspark/sql/types.py\n",
            "spark-3.0.1-bin-hadoop3.2/python/pyspark/sql/group.py\n",
            "spark-3.0.1-bin-hadoop3.2/python/pyspark/sql/dataframe.py\n",
            "spark-3.0.1-bin-hadoop3.2/python/pyspark/sql/catalog.py\n",
            "spark-3.0.1-bin-hadoop3.2/python/pyspark/sql/udf.py\n",
            "spark-3.0.1-bin-hadoop3.2/python/pyspark/sql/pandas/\n",
            "spark-3.0.1-bin-hadoop3.2/python/pyspark/sql/pandas/group_ops.py\n",
            "spark-3.0.1-bin-hadoop3.2/python/pyspark/sql/pandas/serializers.py\n",
            "spark-3.0.1-bin-hadoop3.2/python/pyspark/sql/pandas/functions.py\n",
            "spark-3.0.1-bin-hadoop3.2/python/pyspark/sql/pandas/utils.py\n",
            "spark-3.0.1-bin-hadoop3.2/python/pyspark/sql/pandas/typehints.py\n",
            "spark-3.0.1-bin-hadoop3.2/python/pyspark/sql/pandas/types.py\n",
            "spark-3.0.1-bin-hadoop3.2/python/pyspark/sql/pandas/conversion.py\n",
            "spark-3.0.1-bin-hadoop3.2/python/pyspark/sql/pandas/__init__.py\n",
            "spark-3.0.1-bin-hadoop3.2/python/pyspark/sql/pandas/map_ops.py\n",
            "spark-3.0.1-bin-hadoop3.2/python/pyspark/sql/__init__.py\n",
            "spark-3.0.1-bin-hadoop3.2/python/pyspark/sql/conf.py\n",
            "spark-3.0.1-bin-hadoop3.2/python/pyspark/sql/streaming.py\n",
            "spark-3.0.1-bin-hadoop3.2/python/pyspark/sql/tests/\n",
            "spark-3.0.1-bin-hadoop3.2/python/pyspark/sql/tests/test_column.py\n",
            "spark-3.0.1-bin-hadoop3.2/python/pyspark/sql/tests/test_arrow.py\n",
            "spark-3.0.1-bin-hadoop3.2/python/pyspark/sql/tests/test_conf.py\n",
            "spark-3.0.1-bin-hadoop3.2/python/pyspark/sql/tests/test_pandas_grouped_map.py\n",
            "spark-3.0.1-bin-hadoop3.2/python/pyspark/sql/tests/test_catalog.py\n",
            "spark-3.0.1-bin-hadoop3.2/python/pyspark/sql/tests/test_pandas_cogrouped_map.py\n",
            "spark-3.0.1-bin-hadoop3.2/python/pyspark/sql/tests/test_pandas_udf_typehints.py\n",
            "spark-3.0.1-bin-hadoop3.2/python/pyspark/sql/tests/test_serde.py\n",
            "spark-3.0.1-bin-hadoop3.2/python/pyspark/sql/tests/test_types.py\n",
            "spark-3.0.1-bin-hadoop3.2/python/pyspark/sql/tests/test_pandas_udf_scalar.py\n",
            "spark-3.0.1-bin-hadoop3.2/python/pyspark/sql/tests/test_utils.py\n",
            "spark-3.0.1-bin-hadoop3.2/python/pyspark/sql/tests/test_pandas_map.py\n",
            "spark-3.0.1-bin-hadoop3.2/python/pyspark/sql/tests/test_streaming.py\n",
            "spark-3.0.1-bin-hadoop3.2/python/pyspark/sql/tests/test_functions.py\n",
            "spark-3.0.1-bin-hadoop3.2/python/pyspark/sql/tests/test_context.py\n",
            "spark-3.0.1-bin-hadoop3.2/python/pyspark/sql/tests/test_group.py\n",
            "spark-3.0.1-bin-hadoop3.2/python/pyspark/sql/tests/test_datasources.py\n",
            "spark-3.0.1-bin-hadoop3.2/python/pyspark/sql/tests/test_readwriter.py\n",
            "spark-3.0.1-bin-hadoop3.2/python/pyspark/sql/tests/test_pandas_udf_window.py\n",
            "spark-3.0.1-bin-hadoop3.2/python/pyspark/sql/tests/test_udf.py\n",
            "spark-3.0.1-bin-hadoop3.2/python/pyspark/sql/tests/__init__.py\n",
            "spark-3.0.1-bin-hadoop3.2/python/pyspark/sql/tests/test_session.py\n",
            "spark-3.0.1-bin-hadoop3.2/python/pyspark/sql/tests/test_pandas_udf.py\n",
            "spark-3.0.1-bin-hadoop3.2/python/pyspark/sql/tests/test_pandas_udf_grouped_agg.py\n",
            "spark-3.0.1-bin-hadoop3.2/python/pyspark/sql/tests/test_dataframe.py\n",
            "spark-3.0.1-bin-hadoop3.2/python/pyspark/join.py\n",
            "spark-3.0.1-bin-hadoop3.2/python/pyspark/accumulators.py\n",
            "spark-3.0.1-bin-hadoop3.2/python/pyspark/resultiterable.py\n",
            "spark-3.0.1-bin-hadoop3.2/python/pyspark/profiler.py\n",
            "spark-3.0.1-bin-hadoop3.2/python/pyspark/taskcontext.py\n",
            "spark-3.0.1-bin-hadoop3.2/python/pyspark/storagelevel.py\n",
            "spark-3.0.1-bin-hadoop3.2/python/pyspark/traceback_utils.py\n",
            "spark-3.0.1-bin-hadoop3.2/python/pyspark/files.py\n",
            "spark-3.0.1-bin-hadoop3.2/python/pyspark/_globals.py\n",
            "spark-3.0.1-bin-hadoop3.2/python/pyspark/shuffle.py\n",
            "spark-3.0.1-bin-hadoop3.2/python/pyspark/__init__.py\n",
            "spark-3.0.1-bin-hadoop3.2/python/pyspark/rdd.py\n",
            "spark-3.0.1-bin-hadoop3.2/python/pyspark/find_spark_home.py\n",
            "spark-3.0.1-bin-hadoop3.2/python/pyspark/conf.py\n",
            "spark-3.0.1-bin-hadoop3.2/python/pyspark/tests/\n",
            "spark-3.0.1-bin-hadoop3.2/python/pyspark/tests/test_taskcontext.py\n",
            "spark-3.0.1-bin-hadoop3.2/python/pyspark/tests/test_appsubmit.py\n",
            "spark-3.0.1-bin-hadoop3.2/python/pyspark/tests/test_util.py\n",
            "spark-3.0.1-bin-hadoop3.2/python/pyspark/tests/test_conf.py\n",
            "spark-3.0.1-bin-hadoop3.2/python/pyspark/tests/test_daemon.py\n",
            "spark-3.0.1-bin-hadoop3.2/python/pyspark/tests/test_pin_thread.py\n",
            "spark-3.0.1-bin-hadoop3.2/python/pyspark/tests/test_profiler.py\n",
            "spark-3.0.1-bin-hadoop3.2/python/pyspark/tests/test_shuffle.py\n",
            "spark-3.0.1-bin-hadoop3.2/python/pyspark/tests/test_readwrite.py\n",
            "spark-3.0.1-bin-hadoop3.2/python/pyspark/tests/test_serializers.py\n",
            "spark-3.0.1-bin-hadoop3.2/python/pyspark/tests/test_broadcast.py\n",
            "spark-3.0.1-bin-hadoop3.2/python/pyspark/tests/test_rddbarrier.py\n",
            "spark-3.0.1-bin-hadoop3.2/python/pyspark/tests/test_context.py\n",
            "spark-3.0.1-bin-hadoop3.2/python/pyspark/tests/test_join.py\n",
            "spark-3.0.1-bin-hadoop3.2/python/pyspark/tests/__init__.py\n",
            "spark-3.0.1-bin-hadoop3.2/python/pyspark/tests/test_worker.py\n",
            "spark-3.0.1-bin-hadoop3.2/python/pyspark/tests/test_rdd.py\n",
            "spark-3.0.1-bin-hadoop3.2/python/test_coverage/\n",
            "spark-3.0.1-bin-hadoop3.2/python/test_coverage/sitecustomize.py\n",
            "spark-3.0.1-bin-hadoop3.2/python/test_coverage/coverage_daemon.py\n",
            "spark-3.0.1-bin-hadoop3.2/python/test_coverage/conf/\n",
            "spark-3.0.1-bin-hadoop3.2/python/test_coverage/conf/spark-defaults.conf\n",
            "spark-3.0.1-bin-hadoop3.2/python/test_support/\n",
            "spark-3.0.1-bin-hadoop3.2/python/test_support/SimpleHTTPServer.py\n",
            "spark-3.0.1-bin-hadoop3.2/python/test_support/userlibrary.py\n",
            "spark-3.0.1-bin-hadoop3.2/python/test_support/userlib-0.1.zip\n",
            "spark-3.0.1-bin-hadoop3.2/python/test_support/sql/\n",
            "spark-3.0.1-bin-hadoop3.2/python/test_support/sql/streaming/\n",
            "spark-3.0.1-bin-hadoop3.2/python/test_support/sql/streaming/text-test.txt\n",
            "spark-3.0.1-bin-hadoop3.2/python/test_support/sql/people_array_utf16le.json\n",
            "spark-3.0.1-bin-hadoop3.2/python/test_support/sql/ages.csv\n",
            "spark-3.0.1-bin-hadoop3.2/python/test_support/sql/ages_newlines.csv\n",
            "spark-3.0.1-bin-hadoop3.2/python/test_support/sql/text-test.txt\n",
            "spark-3.0.1-bin-hadoop3.2/python/test_support/sql/people1.json\n",
            "spark-3.0.1-bin-hadoop3.2/python/test_support/sql/orc_partitioned/\n",
            "spark-3.0.1-bin-hadoop3.2/python/test_support/sql/orc_partitioned/b=0/\n",
            "spark-3.0.1-bin-hadoop3.2/python/test_support/sql/orc_partitioned/b=0/c=0/\n",
            "spark-3.0.1-bin-hadoop3.2/python/test_support/sql/orc_partitioned/b=0/c=0/.part-r-00000-829af031-b970-49d6-ad39-30460a0be2c8.orc.crc\n",
            "spark-3.0.1-bin-hadoop3.2/python/test_support/sql/orc_partitioned/b=0/c=0/part-r-00000-829af031-b970-49d6-ad39-30460a0be2c8.orc\n",
            "spark-3.0.1-bin-hadoop3.2/python/test_support/sql/orc_partitioned/_SUCCESS\n",
            "spark-3.0.1-bin-hadoop3.2/python/test_support/sql/orc_partitioned/b=1/\n",
            "spark-3.0.1-bin-hadoop3.2/python/test_support/sql/orc_partitioned/b=1/c=1/\n",
            "spark-3.0.1-bin-hadoop3.2/python/test_support/sql/orc_partitioned/b=1/c=1/.part-r-00000-829af031-b970-49d6-ad39-30460a0be2c8.orc.crc\n",
            "spark-3.0.1-bin-hadoop3.2/python/test_support/sql/orc_partitioned/b=1/c=1/part-r-00000-829af031-b970-49d6-ad39-30460a0be2c8.orc\n",
            "spark-3.0.1-bin-hadoop3.2/python/test_support/sql/parquet_partitioned/\n",
            "spark-3.0.1-bin-hadoop3.2/python/test_support/sql/parquet_partitioned/_metadata\n",
            "spark-3.0.1-bin-hadoop3.2/python/test_support/sql/parquet_partitioned/_SUCCESS\n",
            "spark-3.0.1-bin-hadoop3.2/python/test_support/sql/parquet_partitioned/year=2015/\n",
            "spark-3.0.1-bin-hadoop3.2/python/test_support/sql/parquet_partitioned/year=2015/month=10/\n",
            "spark-3.0.1-bin-hadoop3.2/python/test_support/sql/parquet_partitioned/year=2015/month=10/day=26/\n",
            "spark-3.0.1-bin-hadoop3.2/python/test_support/sql/parquet_partitioned/year=2015/month=10/day=26/.part-r-00005.gz.parquet.crc\n",
            "spark-3.0.1-bin-hadoop3.2/python/test_support/sql/parquet_partitioned/year=2015/month=10/day=26/part-r-00005.gz.parquet\n",
            "spark-3.0.1-bin-hadoop3.2/python/test_support/sql/parquet_partitioned/year=2015/month=10/day=25/\n",
            "spark-3.0.1-bin-hadoop3.2/python/test_support/sql/parquet_partitioned/year=2015/month=10/day=25/.part-r-00004.gz.parquet.crc\n",
            "spark-3.0.1-bin-hadoop3.2/python/test_support/sql/parquet_partitioned/year=2015/month=10/day=25/part-r-00002.gz.parquet\n",
            "spark-3.0.1-bin-hadoop3.2/python/test_support/sql/parquet_partitioned/year=2015/month=10/day=25/.part-r-00002.gz.parquet.crc\n",
            "spark-3.0.1-bin-hadoop3.2/python/test_support/sql/parquet_partitioned/year=2015/month=10/day=25/part-r-00004.gz.parquet\n",
            "spark-3.0.1-bin-hadoop3.2/python/test_support/sql/parquet_partitioned/year=2015/month=9/\n",
            "spark-3.0.1-bin-hadoop3.2/python/test_support/sql/parquet_partitioned/year=2015/month=9/day=1/\n",
            "spark-3.0.1-bin-hadoop3.2/python/test_support/sql/parquet_partitioned/year=2015/month=9/day=1/.part-r-00007.gz.parquet.crc\n",
            "spark-3.0.1-bin-hadoop3.2/python/test_support/sql/parquet_partitioned/year=2015/month=9/day=1/part-r-00007.gz.parquet\n",
            "spark-3.0.1-bin-hadoop3.2/python/test_support/sql/parquet_partitioned/_common_metadata\n",
            "spark-3.0.1-bin-hadoop3.2/python/test_support/sql/parquet_partitioned/year=2014/\n",
            "spark-3.0.1-bin-hadoop3.2/python/test_support/sql/parquet_partitioned/year=2014/month=9/\n",
            "spark-3.0.1-bin-hadoop3.2/python/test_support/sql/parquet_partitioned/year=2014/month=9/day=1/\n",
            "spark-3.0.1-bin-hadoop3.2/python/test_support/sql/parquet_partitioned/year=2014/month=9/day=1/.part-r-00008.gz.parquet.crc\n",
            "spark-3.0.1-bin-hadoop3.2/python/test_support/sql/parquet_partitioned/year=2014/month=9/day=1/part-r-00008.gz.parquet\n",
            "spark-3.0.1-bin-hadoop3.2/python/test_support/sql/people_array.json\n",
            "spark-3.0.1-bin-hadoop3.2/python/test_support/sql/people.json\n",
            "spark-3.0.1-bin-hadoop3.2/python/test_support/hello/\n",
            "spark-3.0.1-bin-hadoop3.2/python/test_support/hello/hello.txt\n",
            "spark-3.0.1-bin-hadoop3.2/python/test_support/hello/sub_hello/\n",
            "spark-3.0.1-bin-hadoop3.2/python/test_support/hello/sub_hello/sub_hello.txt\n",
            "spark-3.0.1-bin-hadoop3.2/python/README.md\n",
            "spark-3.0.1-bin-hadoop3.2/python/run-tests-with-coverage\n",
            "spark-3.0.1-bin-hadoop3.2/python/MANIFEST.in\n",
            "spark-3.0.1-bin-hadoop3.2/python/.coveragerc\n",
            "spark-3.0.1-bin-hadoop3.2/python/docs/\n",
            "spark-3.0.1-bin-hadoop3.2/python/docs/pyspark.mllib.rst\n",
            "spark-3.0.1-bin-hadoop3.2/python/docs/index.rst\n",
            "spark-3.0.1-bin-hadoop3.2/python/docs/pyspark.sql.rst\n",
            "spark-3.0.1-bin-hadoop3.2/python/docs/_static/\n",
            "spark-3.0.1-bin-hadoop3.2/python/docs/_static/pyspark.css\n",
            "spark-3.0.1-bin-hadoop3.2/python/docs/_static/copybutton.js\n",
            "spark-3.0.1-bin-hadoop3.2/python/docs/_static/pyspark.js\n",
            "spark-3.0.1-bin-hadoop3.2/python/docs/make.bat\n",
            "spark-3.0.1-bin-hadoop3.2/python/docs/pyspark.resource.rst\n",
            "spark-3.0.1-bin-hadoop3.2/python/docs/pyspark.rst\n",
            "spark-3.0.1-bin-hadoop3.2/python/docs/make2.bat\n",
            "spark-3.0.1-bin-hadoop3.2/python/docs/_templates/\n",
            "spark-3.0.1-bin-hadoop3.2/python/docs/_templates/layout.html\n",
            "spark-3.0.1-bin-hadoop3.2/python/docs/pyspark.streaming.rst\n",
            "spark-3.0.1-bin-hadoop3.2/python/docs/Makefile\n",
            "spark-3.0.1-bin-hadoop3.2/python/docs/conf.py\n",
            "spark-3.0.1-bin-hadoop3.2/python/docs/pyspark.ml.rst\n",
            "spark-3.0.1-bin-hadoop3.2/python/lib/\n",
            "spark-3.0.1-bin-hadoop3.2/python/lib/py4j-0.10.9-src.zip\n",
            "spark-3.0.1-bin-hadoop3.2/python/lib/pyspark.zip\n",
            "spark-3.0.1-bin-hadoop3.2/python/lib/PY4J_LICENSE.txt\n",
            "spark-3.0.1-bin-hadoop3.2/python/run-tests.py\n",
            "spark-3.0.1-bin-hadoop3.2/python/pylintrc\n",
            "spark-3.0.1-bin-hadoop3.2/python/run-tests\n",
            "spark-3.0.1-bin-hadoop3.2/python/setup.cfg\n",
            "spark-3.0.1-bin-hadoop3.2/python/.gitignore\n",
            "spark-3.0.1-bin-hadoop3.2/conf/\n",
            "spark-3.0.1-bin-hadoop3.2/conf/fairscheduler.xml.template\n",
            "spark-3.0.1-bin-hadoop3.2/conf/log4j.properties.template\n",
            "spark-3.0.1-bin-hadoop3.2/conf/spark-defaults.conf.template\n",
            "spark-3.0.1-bin-hadoop3.2/conf/metrics.properties.template\n",
            "spark-3.0.1-bin-hadoop3.2/conf/spark-env.sh.template\n",
            "spark-3.0.1-bin-hadoop3.2/conf/slaves.template\n",
            "Looking in indexes: https://pypi.org/simple, https://us-python.pkg.dev/colab-wheels/public/simple/\n",
            "Requirement already satisfied: findspark in /usr/local/lib/python3.7/dist-packages (2.0.1)\n"
          ]
        }
      ]
    },
    {
      "cell_type": "code",
      "source": [
        "import os\n",
        "import findspark\n",
        "\n",
        "os.environ[\"SPARK_HOME\"] = \"/content/spark-3.0.1-bin-hadoop3.2\"\n",
        "findspark.init()"
      ],
      "metadata": {
        "id": "mUyY01-sGYzO"
      },
      "execution_count": 2,
      "outputs": []
    },
    {
      "cell_type": "code",
      "metadata": {
        "id": "JwcbnqiymCE3"
      },
      "source": [
        "from pyspark.sql import SparkSession\n",
        "import pyspark.sql.functions as fn"
      ],
      "execution_count": 3,
      "outputs": []
    },
    {
      "cell_type": "code",
      "source": [
        "spark = SparkSession.builder.appName('HW_2').getOrCreate()\n"
      ],
      "metadata": {
        "id": "fU_v2vbmGOo9"
      },
      "execution_count": 4,
      "outputs": []
    },
    {
      "cell_type": "markdown",
      "metadata": {
        "id": "g8HITwTqnJcX"
      },
      "source": [
        "### Read the json file:"
      ]
    },
    {
      "cell_type": "code",
      "metadata": {
        "id": "93iqAB7tnMYQ"
      },
      "source": [
        "df = spark.read.json('/content/DataFrames_sample.json')\n"
      ],
      "execution_count": 5,
      "outputs": []
    },
    {
      "cell_type": "markdown",
      "metadata": {
        "id": "jNx0qMfunbKX"
      },
      "source": [
        "### Display the schema:\n"
      ]
    },
    {
      "cell_type": "code",
      "metadata": {
        "id": "UG4CcVJenc9y",
        "colab": {
          "base_uri": "https://localhost:8080/"
        },
        "outputId": "1af80820-23e8-4d59-e9c1-eb8a6d1d73a7"
      },
      "source": [
        "df.printSchema()"
      ],
      "execution_count": 6,
      "outputs": [
        {
          "output_type": "stream",
          "name": "stdout",
          "text": [
            "root\n",
            " |-- D: double (nullable = true)\n",
            " |-- H: double (nullable = true)\n",
            " |-- HDD: string (nullable = true)\n",
            " |-- Id: long (nullable = true)\n",
            " |-- Model: string (nullable = true)\n",
            " |-- RAM: string (nullable = true)\n",
            " |-- ScreenSize: string (nullable = true)\n",
            " |-- W: double (nullable = true)\n",
            " |-- Weight: double (nullable = true)\n",
            " |-- Year: long (nullable = true)\n",
            "\n"
          ]
        }
      ]
    },
    {
      "cell_type": "markdown",
      "metadata": {
        "id": "Zaj0nHTcngEF"
      },
      "source": [
        "### Get all the data when \"Model\" equal \"MacBook Pro\":\n",
        "\n",
        "\n"
      ]
    },
    {
      "cell_type": "code",
      "source": [
        "df.show(5)"
      ],
      "metadata": {
        "colab": {
          "base_uri": "https://localhost:8080/"
        },
        "id": "pcI8xvkdHimZ",
        "outputId": "afbac517-b531-4d79-bd85-89fccf33145b"
      },
      "execution_count": 7,
      "outputs": [
        {
          "output_type": "stream",
          "name": "stdout",
          "text": [
            "+----+----+---------+---+-----------+----+----------+-----+------+----+\n",
            "|   D|   H|      HDD| Id|      Model| RAM|ScreenSize|    W|Weight|Year|\n",
            "+----+----+---------+---+-----------+----+----------+-----+------+----+\n",
            "|9.48|0.61|512GB SSD|  1|MacBook Pro|16GB|       15\"|13.75|  4.02|2015|\n",
            "|7.74|0.52|256GB SSD|  2|    MacBook| 8GB|       12\"|11.04|  2.03|2016|\n",
            "|8.94|0.68|128GB SSD|  3|MacBook Air| 8GB|     13.3\"| 12.8|  2.96|2016|\n",
            "| 8.0|20.3|  1TB SSD|  4|       iMac|64GB|       27\"| 25.6|  20.8|2017|\n",
            "+----+----+---------+---+-----------+----+----------+-----+------+----+\n",
            "\n"
          ]
        }
      ]
    },
    {
      "cell_type": "code",
      "metadata": {
        "id": "Vm9QPKBCnkuS",
        "colab": {
          "base_uri": "https://localhost:8080/"
        },
        "outputId": "67118af2-945a-4c7a-c48f-5b1695864f3b"
      },
      "source": [
        "df.select('*').where(df.Model == \"MacBook Pro\").show()"
      ],
      "execution_count": 8,
      "outputs": [
        {
          "output_type": "stream",
          "name": "stdout",
          "text": [
            "+----+----+---------+---+-----------+----+----------+-----+------+----+\n",
            "|   D|   H|      HDD| Id|      Model| RAM|ScreenSize|    W|Weight|Year|\n",
            "+----+----+---------+---+-----------+----+----------+-----+------+----+\n",
            "|9.48|0.61|512GB SSD|  1|MacBook Pro|16GB|       15\"|13.75|  4.02|2015|\n",
            "+----+----+---------+---+-----------+----+----------+-----+------+----+\n",
            "\n"
          ]
        }
      ]
    },
    {
      "cell_type": "markdown",
      "metadata": {
        "id": "43oLte9LuGzA"
      },
      "source": [
        "### Create Table:"
      ]
    },
    {
      "cell_type": "code",
      "metadata": {
        "id": "nVFYFcjtdIGW"
      },
      "source": [
        "df.createOrReplaceTempView('df_table')"
      ],
      "execution_count": 9,
      "outputs": []
    },
    {
      "cell_type": "markdown",
      "metadata": {
        "id": "dCLMmjRLdjbT"
      },
      "source": [
        "### Display \"RAM\"column and count \"RAM\" column:"
      ]
    },
    {
      "cell_type": "code",
      "metadata": {
        "id": "BxykutRjuF0X",
        "colab": {
          "base_uri": "https://localhost:8080/"
        },
        "outputId": "a4f2eb46-e3da-41a4-dcae-53e64c7db1f5"
      },
      "source": [
        "spark.sql(\"SELECT 'RAM' ,count('RAM') from df_table\").show()"
      ],
      "execution_count": 10,
      "outputs": [
        {
          "output_type": "stream",
          "name": "stdout",
          "text": [
            "+---+----------+\n",
            "|RAM|count(RAM)|\n",
            "+---+----------+\n",
            "|RAM|         4|\n",
            "+---+----------+\n",
            "\n"
          ]
        }
      ]
    },
    {
      "cell_type": "markdown",
      "metadata": {
        "id": "b5nlwq4t9gvK"
      },
      "source": [
        "### Get all columns when \"Year\" column equal \"2015\"  "
      ]
    },
    {
      "cell_type": "code",
      "metadata": {
        "id": "WXxjFxN19hJl",
        "colab": {
          "base_uri": "https://localhost:8080/"
        },
        "outputId": "ff9d40ff-5e9b-423a-f776-15699807ee78"
      },
      "source": [
        "spark.sql(\"SELECT * from df_table where Year == 2015\").show()"
      ],
      "execution_count": 11,
      "outputs": [
        {
          "output_type": "stream",
          "name": "stdout",
          "text": [
            "+----+----+---------+---+-----------+----+----------+-----+------+----+\n",
            "|   D|   H|      HDD| Id|      Model| RAM|ScreenSize|    W|Weight|Year|\n",
            "+----+----+---------+---+-----------+----+----------+-----+------+----+\n",
            "|9.48|0.61|512GB SSD|  1|MacBook Pro|16GB|       15\"|13.75|  4.02|2015|\n",
            "+----+----+---------+---+-----------+----+----------+-----+------+----+\n",
            "\n"
          ]
        }
      ]
    },
    {
      "cell_type": "markdown",
      "metadata": {
        "id": "JHjK2Kqfuv24"
      },
      "source": [
        "### Get all when \"Model\" start with \"M\":"
      ]
    },
    {
      "cell_type": "code",
      "metadata": {
        "id": "m30EkY_iu1Gs",
        "colab": {
          "base_uri": "https://localhost:8080/"
        },
        "outputId": "d291f5c1-da4a-4ae7-a573-4e528f16fefb"
      },
      "source": [
        "spark.sql(\"SELECT * from df_table where Model  like 'M%' \").show()"
      ],
      "execution_count": 12,
      "outputs": [
        {
          "output_type": "stream",
          "name": "stdout",
          "text": [
            "+----+----+---------+---+-----------+----+----------+-----+------+----+\n",
            "|   D|   H|      HDD| Id|      Model| RAM|ScreenSize|    W|Weight|Year|\n",
            "+----+----+---------+---+-----------+----+----------+-----+------+----+\n",
            "|9.48|0.61|512GB SSD|  1|MacBook Pro|16GB|       15\"|13.75|  4.02|2015|\n",
            "|7.74|0.52|256GB SSD|  2|    MacBook| 8GB|       12\"|11.04|  2.03|2016|\n",
            "|8.94|0.68|128GB SSD|  3|MacBook Air| 8GB|     13.3\"| 12.8|  2.96|2016|\n",
            "+----+----+---------+---+-----------+----+----------+-----+------+----+\n",
            "\n"
          ]
        }
      ]
    },
    {
      "cell_type": "markdown",
      "metadata": {
        "id": "Igw9iqJQ7TdH"
      },
      "source": [
        "### Get all data when \"Model\" column equal \"MacBook Pro\""
      ]
    },
    {
      "cell_type": "code",
      "metadata": {
        "id": "SRCGSB_W9cPc",
        "colab": {
          "base_uri": "https://localhost:8080/"
        },
        "outputId": "693253d7-c9fb-4d62-b291-a032c97a7b84"
      },
      "source": [
        "spark.sql(\"SELECT * from df_table where Model  == 'MacBook Pro' \").show()"
      ],
      "execution_count": 13,
      "outputs": [
        {
          "output_type": "stream",
          "name": "stdout",
          "text": [
            "+----+----+---------+---+-----------+----+----------+-----+------+----+\n",
            "|   D|   H|      HDD| Id|      Model| RAM|ScreenSize|    W|Weight|Year|\n",
            "+----+----+---------+---+-----------+----+----------+-----+------+----+\n",
            "|9.48|0.61|512GB SSD|  1|MacBook Pro|16GB|       15\"|13.75|  4.02|2015|\n",
            "+----+----+---------+---+-----------+----+----------+-----+------+----+\n",
            "\n"
          ]
        }
      ]
    },
    {
      "cell_type": "markdown",
      "metadata": {
        "id": "OZIlmJidw1Ep"
      },
      "source": [
        "### Get all data with Multiple Conditions when \"RAM\" column equal \"8GB\" and \"Model\" column is \"Macbook\"."
      ]
    },
    {
      "cell_type": "code",
      "metadata": {
        "id": "-5T7roxgnBBV",
        "colab": {
          "base_uri": "https://localhost:8080/"
        },
        "outputId": "a5fba43a-d032-48b2-897b-943a871d87c2"
      },
      "source": [
        "spark.sql(\"SELECT * from df_table where RAM == '8GB' and Model == 'MacBook' \").show()"
      ],
      "execution_count": 14,
      "outputs": [
        {
          "output_type": "stream",
          "name": "stdout",
          "text": [
            "+----+----+---------+---+-------+---+----------+-----+------+----+\n",
            "|   D|   H|      HDD| Id|  Model|RAM|ScreenSize|    W|Weight|Year|\n",
            "+----+----+---------+---+-------+---+----------+-----+------+----+\n",
            "|7.74|0.52|256GB SSD|  2|MacBook|8GB|       12\"|11.04|  2.03|2016|\n",
            "+----+----+---------+---+-------+---+----------+-----+------+----+\n",
            "\n"
          ]
        }
      ]
    },
    {
      "cell_type": "markdown",
      "metadata": {
        "id": "qk8YPAWQ8HxI"
      },
      "source": [
        "### Get all data with Multiple Conditions when \"D\" greater than or equal \"8\" and \"Model\" column is \"iMac\"."
      ]
    },
    {
      "cell_type": "code",
      "metadata": {
        "id": "XDHJSpQK9MuS",
        "colab": {
          "base_uri": "https://localhost:8080/"
        },
        "outputId": "8706728f-da06-40f8-fbc5-603dc7757d8d"
      },
      "source": [
        "spark.sql(\"SELECT * from df_table where D >= 8 and Model == 'iMac' \").show()"
      ],
      "execution_count": 15,
      "outputs": [
        {
          "output_type": "stream",
          "name": "stdout",
          "text": [
            "+---+----+-------+---+-----+----+----------+----+------+----+\n",
            "|  D|   H|    HDD| Id|Model| RAM|ScreenSize|   W|Weight|Year|\n",
            "+---+----+-------+---+-----+----+----------+----+------+----+\n",
            "|8.0|20.3|1TB SSD|  4| iMac|64GB|       27\"|25.6|  20.8|2017|\n",
            "+---+----+-------+---+-----+----+----------+----+------+----+\n",
            "\n"
          ]
        }
      ]
    },
    {
      "cell_type": "markdown",
      "metadata": {
        "id": "5d6364f6"
      },
      "source": [
        "## Task 2\n"
      ]
    },
    {
      "cell_type": "markdown",
      "metadata": {
        "id": "rlWhDvTPfZgu"
      },
      "source": [
        "### Read \"test1\" dataset:"
      ]
    },
    {
      "cell_type": "code",
      "metadata": {
        "id": "7964d064",
        "colab": {
          "base_uri": "https://localhost:8080/"
        },
        "outputId": "4608f828-a0c0-451d-f0d8-fb09c3a6302c"
      },
      "source": [
        "df_2 = spark.read.csv('/content/test1.csv', inferSchema=True , header=True)\n",
        "df_2.show(5)"
      ],
      "execution_count": 16,
      "outputs": [
        {
          "output_type": "stream",
          "name": "stdout",
          "text": [
            "+---------+---+----------+------+\n",
            "|     Name|age|Experience|Salary|\n",
            "+---------+---+----------+------+\n",
            "|    Krish| 31|        10| 30000|\n",
            "|Sudhanshu| 30|         8| 25000|\n",
            "|    Sunny| 29|         4| 20000|\n",
            "|     Paul| 24|         3| 20000|\n",
            "|   Harsha| 21|         1| 15000|\n",
            "+---------+---+----------+------+\n",
            "only showing top 5 rows\n",
            "\n"
          ]
        }
      ]
    },
    {
      "cell_type": "markdown",
      "metadata": {
        "id": "EJKjDOKHfnCt"
      },
      "source": [
        "### Display Salary of the people less than or equal to 20000"
      ]
    },
    {
      "cell_type": "code",
      "metadata": {
        "id": "c21edffc",
        "colab": {
          "base_uri": "https://localhost:8080/"
        },
        "outputId": "4da126b3-b05a-4b4e-de56-ced779e81c1e"
      },
      "source": [
        "df_2.select('Salary').where(df_2.Salary <= 20000).show()"
      ],
      "execution_count": 17,
      "outputs": [
        {
          "output_type": "stream",
          "name": "stdout",
          "text": [
            "+------+\n",
            "|Salary|\n",
            "+------+\n",
            "| 20000|\n",
            "| 20000|\n",
            "| 15000|\n",
            "| 18000|\n",
            "+------+\n",
            "\n"
          ]
        }
      ]
    },
    {
      "cell_type": "markdown",
      "metadata": {
        "id": "OvFWNFJjf0Pq"
      },
      "source": [
        "### Display Salary of the people less than or equal to 20000 and greater than or equal 15000"
      ]
    },
    {
      "cell_type": "code",
      "metadata": {
        "id": "26f76ee1"
      },
      "source": [
        "df_2.createOrReplaceTempView('df_2_table')"
      ],
      "execution_count": 18,
      "outputs": []
    },
    {
      "cell_type": "code",
      "source": [
        "spark.sql(\"SELECT Salary from df_2_table where Salary between 15000 and 20000\").show()"
      ],
      "metadata": {
        "colab": {
          "base_uri": "https://localhost:8080/"
        },
        "id": "phjXpi7kM4Gm",
        "outputId": "bb2fd8e8-f2bb-4800-dd1a-5c1ece84568b"
      },
      "execution_count": 19,
      "outputs": [
        {
          "output_type": "stream",
          "name": "stdout",
          "text": [
            "+------+\n",
            "|Salary|\n",
            "+------+\n",
            "| 20000|\n",
            "| 20000|\n",
            "| 15000|\n",
            "| 18000|\n",
            "+------+\n",
            "\n"
          ]
        }
      ]
    },
    {
      "cell_type": "markdown",
      "metadata": {
        "id": "9VAcIXkTgN9D"
      },
      "source": [
        "## Task 3 "
      ]
    },
    {
      "cell_type": "markdown",
      "metadata": {
        "id": "uOeqRO2KgW34"
      },
      "source": [
        "### Read \"test3\" dataset:"
      ]
    },
    {
      "cell_type": "code",
      "metadata": {
        "id": "4d3bd081"
      },
      "source": [
        "df_3 = spark.read.csv('/content/test3.csv',inferSchema=True,header=True)"
      ],
      "execution_count": 20,
      "outputs": []
    },
    {
      "cell_type": "markdown",
      "metadata": {
        "id": "ejyUT1rngdeR"
      },
      "source": [
        "### Display dataset"
      ]
    },
    {
      "cell_type": "code",
      "metadata": {
        "id": "7ed791ed",
        "colab": {
          "base_uri": "https://localhost:8080/"
        },
        "outputId": "cd0e360b-4c8f-4c0c-efe7-9da345327c80"
      },
      "source": [
        "df_3.show(3)"
      ],
      "execution_count": 21,
      "outputs": [
        {
          "output_type": "stream",
          "name": "stdout",
          "text": [
            "+------+------------+------+\n",
            "|  Name| Departments|salary|\n",
            "+------+------------+------+\n",
            "| Krish|Data Science| 10000|\n",
            "| Krish|         IOT|  5000|\n",
            "|Mahesh|    Big Data|  4000|\n",
            "+------+------------+------+\n",
            "only showing top 3 rows\n",
            "\n"
          ]
        }
      ]
    },
    {
      "cell_type": "markdown",
      "metadata": {
        "id": "Xp42YtorghXJ"
      },
      "source": [
        "### Display schema"
      ]
    },
    {
      "cell_type": "code",
      "metadata": {
        "id": "d57d24ca",
        "colab": {
          "base_uri": "https://localhost:8080/"
        },
        "outputId": "2b1a0eca-3c7c-4221-d73f-d88d55938765"
      },
      "source": [
        "df_3.printSchema()"
      ],
      "execution_count": 22,
      "outputs": [
        {
          "output_type": "stream",
          "name": "stdout",
          "text": [
            "root\n",
            " |-- Name: string (nullable = true)\n",
            " |-- Departments: string (nullable = true)\n",
            " |-- salary: integer (nullable = true)\n",
            "\n"
          ]
        }
      ]
    },
    {
      "cell_type": "markdown",
      "metadata": {
        "id": "PHxWeGCCgnww"
      },
      "source": [
        "### Group by \"Name\" column and using sum function on \"Name\" column"
      ]
    },
    {
      "cell_type": "code",
      "metadata": {
        "id": "f15f8197",
        "colab": {
          "base_uri": "https://localhost:8080/"
        },
        "outputId": "f9f1e4a7-30be-4cd2-ddf7-49cd3fdfbe81"
      },
      "source": [
        "df_3.groupby(df_3.Name).count().show()"
      ],
      "execution_count": 23,
      "outputs": [
        {
          "output_type": "stream",
          "name": "stdout",
          "text": [
            "+---------+-----+\n",
            "|     Name|count|\n",
            "+---------+-----+\n",
            "|Sudhanshu|    3|\n",
            "|    Sunny|    2|\n",
            "|    Krish|    3|\n",
            "|   Mahesh|    2|\n",
            "+---------+-----+\n",
            "\n"
          ]
        }
      ]
    },
    {
      "cell_type": "code",
      "source": [
        "df_3.groupBy(df_3['Name']).agg(fn.count(df_3.Name).alias('Sum')).show()\n"
      ],
      "metadata": {
        "colab": {
          "base_uri": "https://localhost:8080/"
        },
        "id": "gxIsVOo6OxsP",
        "outputId": "902b94bf-9b42-461d-ec98-0fc484ece54f"
      },
      "execution_count": 24,
      "outputs": [
        {
          "output_type": "stream",
          "name": "stdout",
          "text": [
            "+---------+---+\n",
            "|     Name|Sum|\n",
            "+---------+---+\n",
            "|Sudhanshu|  3|\n",
            "|    Sunny|  2|\n",
            "|    Krish|  3|\n",
            "|   Mahesh|  2|\n",
            "+---------+---+\n",
            "\n"
          ]
        }
      ]
    },
    {
      "cell_type": "markdown",
      "metadata": {
        "id": "gWgkaU3bhUOL"
      },
      "source": [
        "### Group by \"Name\" column and using avg function on \"Name\" column"
      ]
    },
    {
      "cell_type": "code",
      "metadata": {
        "id": "fc122ace",
        "colab": {
          "base_uri": "https://localhost:8080/"
        },
        "outputId": "abc4fb82-6125-470b-e71a-670378fe31ac"
      },
      "source": [
        "df_3.groupby(df_3.Name).agg(fn.avg(df_3.salary)).show()"
      ],
      "execution_count": 25,
      "outputs": [
        {
          "output_type": "stream",
          "name": "stdout",
          "text": [
            "+---------+------------------+\n",
            "|     Name|       avg(salary)|\n",
            "+---------+------------------+\n",
            "|Sudhanshu|11666.666666666666|\n",
            "|    Sunny|            6000.0|\n",
            "|    Krish| 6333.333333333333|\n",
            "|   Mahesh|            3500.0|\n",
            "+---------+------------------+\n",
            "\n"
          ]
        }
      ]
    },
    {
      "cell_type": "markdown",
      "metadata": {
        "id": "ARg_-WPKhfL5"
      },
      "source": [
        "### Group by \"Departments\" column and using sum function on \"Departments\" column"
      ]
    },
    {
      "cell_type": "code",
      "metadata": {
        "id": "151d2264",
        "colab": {
          "base_uri": "https://localhost:8080/"
        },
        "outputId": "75d767cf-f114-46f1-8e94-7113b95e9048"
      },
      "source": [
        "df_3.groupby(df_3.Departments).agg(fn.sum(df_3.salary)).show()"
      ],
      "execution_count": 26,
      "outputs": [
        {
          "output_type": "stream",
          "name": "stdout",
          "text": [
            "+------------+-----------+\n",
            "| Departments|sum(salary)|\n",
            "+------------+-----------+\n",
            "|         IOT|      15000|\n",
            "|    Big Data|      15000|\n",
            "|Data Science|      43000|\n",
            "+------------+-----------+\n",
            "\n"
          ]
        }
      ]
    },
    {
      "cell_type": "markdown",
      "metadata": {
        "id": "S7rdLSEXhn4W"
      },
      "source": [
        "### Group by \"Departments\" column and using mean function on \"Departments\" column:"
      ]
    },
    {
      "cell_type": "code",
      "metadata": {
        "id": "66fe5552",
        "colab": {
          "base_uri": "https://localhost:8080/"
        },
        "outputId": "8596c837-855b-4c97-f75f-e4e38f12f158"
      },
      "source": [
        "df_3.groupby(df_3.Departments).agg(fn.mean(df_3.salary)).show()"
      ],
      "execution_count": 27,
      "outputs": [
        {
          "output_type": "stream",
          "name": "stdout",
          "text": [
            "+------------+-----------+\n",
            "| Departments|avg(salary)|\n",
            "+------------+-----------+\n",
            "|         IOT|     7500.0|\n",
            "|    Big Data|     3750.0|\n",
            "|Data Science|    10750.0|\n",
            "+------------+-----------+\n",
            "\n"
          ]
        }
      ]
    },
    {
      "cell_type": "markdown",
      "metadata": {
        "id": "bndivgGjhsbq"
      },
      "source": [
        "Group by \"Departments\" column and using count function on \"Departments\" column:"
      ]
    },
    {
      "cell_type": "code",
      "metadata": {
        "id": "bc7bf192",
        "colab": {
          "base_uri": "https://localhost:8080/"
        },
        "outputId": "0907ff43-c49f-4c23-baab-5d93b71ed7f3"
      },
      "source": [
        "df_3.groupby(df_3.Departments).agg(fn.count(df_3.Departments)).show()"
      ],
      "execution_count": 28,
      "outputs": [
        {
          "output_type": "stream",
          "name": "stdout",
          "text": [
            "+------------+------------------+\n",
            "| Departments|count(Departments)|\n",
            "+------------+------------------+\n",
            "|         IOT|                 2|\n",
            "|    Big Data|                 4|\n",
            "|Data Science|                 4|\n",
            "+------------+------------------+\n",
            "\n"
          ]
        }
      ]
    },
    {
      "cell_type": "markdown",
      "metadata": {
        "id": "dfPs99wnhwGu"
      },
      "source": [
        "### Apply agg to using sum function get the total of salaries"
      ]
    },
    {
      "cell_type": "code",
      "metadata": {
        "id": "37b26cbe",
        "colab": {
          "base_uri": "https://localhost:8080/"
        },
        "outputId": "443af94d-6d5b-46f2-fb58-33c7644f439d"
      },
      "source": [
        "df_3.agg(fn.sum(df_3.salary)).show()"
      ],
      "execution_count": 29,
      "outputs": [
        {
          "output_type": "stream",
          "name": "stdout",
          "text": [
            "+-----------+\n",
            "|sum(salary)|\n",
            "+-----------+\n",
            "|      73000|\n",
            "+-----------+\n",
            "\n"
          ]
        }
      ]
    },
    {
      "cell_type": "markdown",
      "metadata": {
        "id": "MYD0wGPRi1FO"
      },
      "source": [
        "## Task 4"
      ]
    },
    {
      "cell_type": "markdown",
      "metadata": {
        "id": "lJLc1PY1i-Np"
      },
      "source": [
        "You've been flown to their headquarters in Ulsan, South Korea, to assist them in accurately estimating the number of crew members a ship will need.\n"
      ]
    },
    {
      "cell_type": "markdown",
      "metadata": {
        "id": "8PEoknoejL4r"
      },
      "source": [
        "They're currently building new ships for certain customers, and they'd like you to create a model and utilize it to estimate how many crew members the ships will require.\n"
      ]
    },
    {
      "cell_type": "markdown",
      "metadata": {
        "id": "70slYH-tjR81"
      },
      "source": [
        "Metadata:\n",
        "1. Measurements of ship size \n",
        "2. capacity \n",
        "3. crew \n",
        "4. age for 158 cruise ships."
      ]
    },
    {
      "cell_type": "markdown",
      "metadata": {
        "id": "5ZzrhGnHkRCU"
      },
      "source": [
        "It is saved in a csv file for you called \"ITI_data.csv\". our task is to develop a regression model that will assist in predicting the number of crew members required for future ships. The client also indicated that they have found that particular cruise lines will differ in acceptable crew counts, thus this is most likely an important factor to consider when conducting your investigation."
      ]
    },
    {
      "cell_type": "code",
      "metadata": {
        "id": "A9CZzWWqZnOC"
      },
      "source": [
        "import pyspark.ml.feature as ml\n",
        "from pyspark.ml import Pipeline\n",
        "from pyspark.ml.classification import LogisticRegression"
      ],
      "execution_count": 30,
      "outputs": []
    },
    {
      "cell_type": "code",
      "source": [
        "df_ml = spark.read.csv('/content/ITI_data.csv',header=True , inferSchema=True)"
      ],
      "metadata": {
        "id": "qE-xD8NCVdT6"
      },
      "execution_count": 31,
      "outputs": []
    },
    {
      "cell_type": "code",
      "source": [
        "df_ml.show(5)"
      ],
      "metadata": {
        "colab": {
          "base_uri": "https://localhost:8080/"
        },
        "id": "WtSjmmmZVnj0",
        "outputId": "d551c076-2cfd-4333-870d-f3eb064bad1d"
      },
      "execution_count": 32,
      "outputs": [
        {
          "output_type": "stream",
          "name": "stdout",
          "text": [
            "+-----------+-----------+---+------------------+----------+------+------+-----------------+----+\n",
            "|  Ship_name|Cruise_line|Age|           Tonnage|passengers|length|cabins|passenger_density|crew|\n",
            "+-----------+-----------+---+------------------+----------+------+------+-----------------+----+\n",
            "|    Journey|    Azamara|  6|30.276999999999997|      6.94|  5.94|  3.55|            42.64|3.55|\n",
            "|      Quest|    Azamara|  6|30.276999999999997|      6.94|  5.94|  3.55|            42.64|3.55|\n",
            "|Celebration|   Carnival| 26|            47.262|     14.86|  7.22|  7.43|             31.8| 6.7|\n",
            "|   Conquest|   Carnival| 11|             110.0|     29.74|  9.53| 14.88|            36.99|19.1|\n",
            "|    Destiny|   Carnival| 17|           101.353|     26.42|  8.92| 13.21|            38.36|10.0|\n",
            "+-----------+-----------+---+------------------+----------+------+------+-----------------+----+\n",
            "only showing top 5 rows\n",
            "\n"
          ]
        }
      ]
    },
    {
      "cell_type": "code",
      "source": [
        "train_df, test_df = df_ml.randomSplit([.8,.2],seed=42)\n",
        "print(f\"There are {train_df.count()} rows in the training set, and {test_df.count()} in the test set\")\n"
      ],
      "metadata": {
        "colab": {
          "base_uri": "https://localhost:8080/"
        },
        "id": "E_JX8r25XaTN",
        "outputId": "d7401b81-8837-4895-c13f-bddb659f453c"
      },
      "execution_count": 33,
      "outputs": [
        {
          "output_type": "stream",
          "name": "stdout",
          "text": [
            "There are 133 rows in the training set, and 25 in the test set\n"
          ]
        }
      ]
    },
    {
      "cell_type": "code",
      "source": [
        "train_df.show(5)"
      ],
      "metadata": {
        "colab": {
          "base_uri": "https://localhost:8080/"
        },
        "id": "cow64SUJhnuD",
        "outputId": "8aab7222-41ae-4eb7-b0e0-7e409acf1fab"
      },
      "execution_count": 55,
      "outputs": [
        {
          "output_type": "stream",
          "name": "stdout",
          "text": [
            "+---------+---------------+---+-------+----------+------+------+-----------------+-----+\n",
            "|Ship_name|    Cruise_line|Age|Tonnage|passengers|length|cabins|passenger_density| crew|\n",
            "+---------+---------------+---+-------+----------+------+------+-----------------+-----+\n",
            "|Adventure|Royal_Caribbean| 12|  138.0|     31.14|  10.2| 15.57|            44.32|11.85|\n",
            "|  Allegra|          Costa| 21|  28.43|      8.08|  6.16|   4.1|            35.19|  4.0|\n",
            "|  Arcadia|            P&O|  9|   85.0|     19.68|  9.35|  9.84|            43.19| 8.69|\n",
            "|    Aries|           Star| 22|  3.341|      0.66|   2.8|  0.33|            50.62| 0.59|\n",
            "|  Armonia|            MSC| 12|   58.6|     15.66|  8.24|  7.83|            37.42|  7.0|\n",
            "+---------+---------------+---+-------+----------+------+------+-----------------+-----+\n",
            "only showing top 5 rows\n",
            "\n"
          ]
        }
      ]
    },
    {
      "cell_type": "code",
      "source": [
        "test_df.show(5)"
      ],
      "metadata": {
        "colab": {
          "base_uri": "https://localhost:8080/"
        },
        "id": "N8aW0hnFhrvc",
        "outputId": "487623c3-e554-48f7-c46f-c377a4c8ff7e"
      },
      "execution_count": 56,
      "outputs": [
        {
          "output_type": "stream",
          "name": "stdout",
          "text": [
            "+---------+----------------+---+-------+----------+------+------+-----------------+----+\n",
            "|Ship_name|     Cruise_line|Age|Tonnage|passengers|length|cabins|passenger_density|crew|\n",
            "+---------+----------------+---+-------+----------+------+------+-----------------+----+\n",
            "|Amsterdam|Holland_American| 13|   61.0|      13.8|   7.8|  6.88|             44.2| 6.0|\n",
            "|  Artemis|             P&O| 29|   45.0|     11.78|  7.54|   5.3|             38.2| 5.2|\n",
            "|   Aurora|             P&O| 13|   76.0|     18.74|  8.86|  9.39|            40.55| 8.5|\n",
            "| Classica|           Costa| 22| 52.926|     13.02|  7.18|  6.54|            40.65|6.17|\n",
            "|    Crown|        Princess|  7|  116.0|      31.0|  9.51| 15.57|            37.42|12.0|\n",
            "+---------+----------------+---+-------+----------+------+------+-----------------+----+\n",
            "only showing top 5 rows\n",
            "\n"
          ]
        }
      ]
    },
    {
      "cell_type": "markdown",
      "metadata": {
        "id": "1QTNLhZSlf9_"
      },
      "source": [
        "### OneHotEncoder \n"
      ]
    },
    {
      "cell_type": "code",
      "source": [
        "categorical_cols  = [field for (field,dataType) in df_ml.dtypes\n",
        "              if ((dataType =='string'))]\n",
        "numerical_cols =[field for (field,dataType) in df_ml.dtypes\n",
        "              if ((dataType =='double'))& (field not in ['crew'])]"
      ],
      "metadata": {
        "id": "8dqRxNpUWC2e"
      },
      "execution_count": 34,
      "outputs": []
    },
    {
      "cell_type": "code",
      "source": [
        "numerical_cols"
      ],
      "metadata": {
        "colab": {
          "base_uri": "https://localhost:8080/"
        },
        "id": "sFBqUxa0Y0wc",
        "outputId": "fd955a09-1f45-4bd7-e3a5-d5e6f003cf7a"
      },
      "execution_count": 35,
      "outputs": [
        {
          "output_type": "execute_result",
          "data": {
            "text/plain": [
              "['Tonnage', 'passengers', 'length', 'cabins', 'passenger_density']"
            ]
          },
          "metadata": {},
          "execution_count": 35
        }
      ]
    },
    {
      "cell_type": "code",
      "source": [
        "index_output_cols = [x + \"_Index\" for x in categorical_cols]\n",
        "index_output_cols"
      ],
      "metadata": {
        "colab": {
          "base_uri": "https://localhost:8080/"
        },
        "id": "I9Rzh1RjWhIk",
        "outputId": "cae5abba-9c64-4f76-b86c-f9075a31ff52"
      },
      "execution_count": 36,
      "outputs": [
        {
          "output_type": "execute_result",
          "data": {
            "text/plain": [
              "['Ship_name_Index', 'Cruise_line_Index']"
            ]
          },
          "metadata": {},
          "execution_count": 36
        }
      ]
    },
    {
      "cell_type": "code",
      "source": [
        "ohe_output_cols = [x + \"_OHE\" for x in categorical_cols]\n",
        "ohe_output_cols"
      ],
      "metadata": {
        "colab": {
          "base_uri": "https://localhost:8080/"
        },
        "id": "GEOH4mLcWjNf",
        "outputId": "6c2312c0-5fc5-4eea-de42-4deb2791cc20"
      },
      "execution_count": 37,
      "outputs": [
        {
          "output_type": "execute_result",
          "data": {
            "text/plain": [
              "['Ship_name_OHE', 'Cruise_line_OHE']"
            ]
          },
          "metadata": {},
          "execution_count": 37
        }
      ]
    },
    {
      "cell_type": "code",
      "metadata": {
        "id": "-ZZxxxKLZnOF"
      },
      "source": [
        "string_indexer = ml.StringIndexer(inputCols=categorical_cols, outputCols=index_output_cols)\n",
        "one_encoder = ml.OneHotEncoder(inputCols=index_output_cols, outputCols=ohe_output_cols)"
      ],
      "execution_count": 38,
      "outputs": []
    },
    {
      "cell_type": "code",
      "source": [
        "mixed_features = ohe_output_cols + numerical_cols\n",
        "mixed_features"
      ],
      "metadata": {
        "colab": {
          "base_uri": "https://localhost:8080/"
        },
        "id": "pYnjihGaWsfJ",
        "outputId": "99fd91b6-95af-496a-fa00-1ca42d916a78"
      },
      "execution_count": 39,
      "outputs": [
        {
          "output_type": "execute_result",
          "data": {
            "text/plain": [
              "['Ship_name_OHE',\n",
              " 'Cruise_line_OHE',\n",
              " 'Tonnage',\n",
              " 'passengers',\n",
              " 'length',\n",
              " 'cabins',\n",
              " 'passenger_density']"
            ]
          },
          "metadata": {},
          "execution_count": 39
        }
      ]
    },
    {
      "cell_type": "markdown",
      "metadata": {
        "id": "RNCxWem0l662"
      },
      "source": [
        "###Use VectorAssembler to merge all columns into one column:"
      ]
    },
    {
      "cell_type": "code",
      "metadata": {
        "collapsed": true,
        "id": "pE4ohNjVZnOG"
      },
      "source": [
        "vector_assembler = ml.VectorAssembler(inputCols=mixed_features, outputCol='features')"
      ],
      "execution_count": 40,
      "outputs": []
    },
    {
      "cell_type": "markdown",
      "metadata": {
        "id": "Rbf56f6AmUUl"
      },
      "source": [
        "### Create a Linear Regression Model "
      ]
    },
    {
      "cell_type": "code",
      "metadata": {
        "id": "nvqnqTkunkNx"
      },
      "source": [
        "from pyspark.ml.regression import LinearRegression\n",
        "lr = LinearRegression(labelCol='crew')"
      ],
      "execution_count": 41,
      "outputs": []
    },
    {
      "cell_type": "markdown",
      "metadata": {
        "id": "dVdxQTcSC6Cz"
      },
      "source": [
        "### Creating a Pipeline"
      ]
    },
    {
      "cell_type": "code",
      "metadata": {
        "id": "UqM9HxkNIHwE"
      },
      "source": [
        "pipeline = Pipeline(stages=[string_indexer, one_encoder, vector_assembler, lr])"
      ],
      "execution_count": 42,
      "outputs": []
    },
    {
      "cell_type": "code",
      "source": [
        "model = pipeline.fit(train_df)\n",
        "model"
      ],
      "metadata": {
        "colab": {
          "base_uri": "https://localhost:8080/"
        },
        "id": "CAAWdzPxXtE6",
        "outputId": "8deffe3f-1332-430b-9dd2-ffc9b177b90b"
      },
      "execution_count": 43,
      "outputs": [
        {
          "output_type": "execute_result",
          "data": {
            "text/plain": [
              "PipelineModel_f0b90b742322"
            ]
          },
          "metadata": {},
          "execution_count": 43
        }
      ]
    },
    {
      "cell_type": "code",
      "source": [
        "evaluate_train = model.transform(train_df)\n",
        "evaluate_train.show(5)"
      ],
      "metadata": {
        "colab": {
          "base_uri": "https://localhost:8080/"
        },
        "id": "RcKabmiyhFoh",
        "outputId": "178591eb-a565-481a-933f-8ce140e44524"
      },
      "execution_count": 51,
      "outputs": [
        {
          "output_type": "stream",
          "name": "stdout",
          "text": [
            "+---------+---------------+---+-------+----------+------+------+-----------------+-----+---------------+-----------------+----------------+---------------+--------------------+------------------+\n",
            "|Ship_name|    Cruise_line|Age|Tonnage|passengers|length|cabins|passenger_density| crew|Ship_name_Index|Cruise_line_Index|   Ship_name_OHE|Cruise_line_OHE|            features|        prediction|\n",
            "+---------+---------------+---+-------+----------+------+------+-----------------+-----+---------------+-----------------+----------------+---------------+--------------------+------------------+\n",
            "|Adventure|Royal_Caribbean| 12|  138.0|     31.14|  10.2| 15.57|            44.32|11.85|           12.0|              1.0|(117,[12],[1.0])| (18,[1],[1.0])|(140,[12,118,135,...|11.853914505686582|\n",
            "|  Allegra|          Costa| 21|  28.43|      8.08|  6.16|   4.1|            35.19|  4.0|           13.0|              5.0|(117,[13],[1.0])| (18,[5],[1.0])|(140,[13,122,135,...|3.9942825754512783|\n",
            "|  Arcadia|            P&O|  9|   85.0|     19.68|  9.35|  9.84|            43.19| 8.69|           14.0|             10.0|(117,[14],[1.0])|(18,[10],[1.0])|(140,[14,127,135,...| 8.691712383426175|\n",
            "|    Aries|           Star| 22|  3.341|      0.66|   2.8|  0.33|            50.62| 0.59|           15.0|              9.0|(117,[15],[1.0])| (18,[9],[1.0])|(140,[15,126,135,...|0.5839308343395659|\n",
            "|  Armonia|            MSC| 12|   58.6|     15.66|  8.24|  7.83|            37.42|  7.0|           16.0|              7.0|(117,[16],[1.0])| (18,[7],[1.0])|(140,[16,124,135,...| 7.000821741370229|\n",
            "+---------+---------------+---+-------+----------+------+------+-----------------+-----+---------------+-----------------+----------------+---------------+--------------------+------------------+\n",
            "only showing top 5 rows\n",
            "\n"
          ]
        }
      ]
    },
    {
      "cell_type": "code",
      "source": [
        "evaluate_train.select('features','prediction').show(5)"
      ],
      "metadata": {
        "colab": {
          "base_uri": "https://localhost:8080/"
        },
        "id": "obtt16_-hOJS",
        "outputId": "8fb1b156-7a34-4857-9deb-bba748193a73"
      },
      "execution_count": 52,
      "outputs": [
        {
          "output_type": "stream",
          "name": "stdout",
          "text": [
            "+--------------------+------------------+\n",
            "|            features|        prediction|\n",
            "+--------------------+------------------+\n",
            "|(140,[12,118,135,...|11.853914505686582|\n",
            "|(140,[13,122,135,...|3.9942825754512783|\n",
            "|(140,[14,127,135,...| 8.691712383426175|\n",
            "|(140,[15,126,135,...|0.5839308343395659|\n",
            "|(140,[16,124,135,...| 7.000821741370229|\n",
            "+--------------------+------------------+\n",
            "only showing top 5 rows\n",
            "\n"
          ]
        }
      ]
    },
    {
      "cell_type": "code",
      "source": [
        "evaluate_test = model.transform(test_df)\n",
        "evaluate_test.printSchema()"
      ],
      "metadata": {
        "colab": {
          "base_uri": "https://localhost:8080/"
        },
        "id": "rsKqtZpRZSkS",
        "outputId": "ef088d0f-1e5d-4e95-c8e1-ed586f568c3e"
      },
      "execution_count": 60,
      "outputs": [
        {
          "output_type": "stream",
          "name": "stdout",
          "text": [
            "root\n",
            " |-- Ship_name: string (nullable = true)\n",
            " |-- Cruise_line: string (nullable = true)\n",
            " |-- Age: integer (nullable = true)\n",
            " |-- Tonnage: double (nullable = true)\n",
            " |-- passengers: double (nullable = true)\n",
            " |-- length: double (nullable = true)\n",
            " |-- cabins: double (nullable = true)\n",
            " |-- passenger_density: double (nullable = true)\n",
            " |-- crew: double (nullable = true)\n",
            " |-- Ship_name_Index: double (nullable = false)\n",
            " |-- Cruise_line_Index: double (nullable = false)\n",
            " |-- Ship_name_OHE: vector (nullable = true)\n",
            " |-- Cruise_line_OHE: vector (nullable = true)\n",
            " |-- features: vector (nullable = true)\n",
            " |-- prediction: double (nullable = false)\n",
            "\n"
          ]
        }
      ]
    },
    {
      "cell_type": "code",
      "source": [
        "from pyspark.ml.evaluation import RegressionEvaluator\n",
        "lr_evaluator = RegressionEvaluator(predictionCol=\"prediction\",labelCol=\"crew\",metricName=\"r2\")\n",
        "lr_evaluator.evaluate(evaluate_test)"
      ],
      "metadata": {
        "colab": {
          "base_uri": "https://localhost:8080/"
        },
        "id": "Y_A_YtThZjuO",
        "outputId": "d64e9328-5670-421d-805e-097542c697f5"
      },
      "execution_count": 61,
      "outputs": [
        {
          "output_type": "execute_result",
          "data": {
            "text/plain": [
              "0.9994096426755671"
            ]
          },
          "metadata": {},
          "execution_count": 61
        }
      ]
    }
  ]
}